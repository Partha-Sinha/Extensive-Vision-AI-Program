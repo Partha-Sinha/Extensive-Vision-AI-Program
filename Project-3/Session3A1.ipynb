{
  "nbformat": 4,
  "nbformat_minor": 0,
  "metadata": {
    "colab": {
      "name": "Session3A1.ipynb",
      "version": "0.3.2",
      "provenance": [],
      "collapsed_sections": []
    },
    "kernelspec": {
      "name": "python3",
      "display_name": "Python 3"
    },
    "accelerator": "GPU"
  },
  "cells": [
    {
      "cell_type": "markdown",
      "metadata": {
        "id": "aNyZv-Ec52ot",
        "colab_type": "text"
      },
      "source": [
        "# **Import Libraries and modules**"
      ]
    },
    {
      "cell_type": "code",
      "metadata": {
        "id": "3m3w1Cw49Zkt",
        "colab_type": "code",
        "outputId": "ca1b8a0e-bfb6-4e01-91c7-a8abc9b62ec3",
        "colab": {
          "base_uri": "https://localhost:8080/",
          "height": 34
        }
      },
      "source": [
        "# https://keras.io/\n",
        "!pip install -q keras\n",
        "import keras"
      ],
      "execution_count": 1,
      "outputs": [
        {
          "output_type": "stream",
          "text": [
            "Using TensorFlow backend.\n"
          ],
          "name": "stderr"
        }
      ]
    },
    {
      "cell_type": "markdown",
      "metadata": {
        "id": "VAqusvONGncR",
        "colab_type": "text"
      },
      "source": [
        "Importing all the necessary libraries and the MNSIT dataset from Keras.\n",
        "\n",
        "* MNIST dataset has a training set of 60,000 examples, and a test set of 10,000 examples."
      ]
    },
    {
      "cell_type": "code",
      "metadata": {
        "id": "Eso6UHE080D4",
        "colab_type": "code",
        "colab": {}
      },
      "source": [
        "import numpy as np\n",
        "\n",
        "from keras.models import Sequential\n",
        "from keras.layers import Dropout, Activation, Flatten, Add, BatchNormalization\n",
        "from keras.layers import Conv2D, MaxPooling2D\n",
        "from keras.utils import np_utils\n",
        "\n",
        "from keras.datasets import mnist"
      ],
      "execution_count": 0,
      "outputs": []
    },
    {
      "cell_type": "markdown",
      "metadata": {
        "id": "zByEi95J86RD",
        "colab_type": "text"
      },
      "source": [
        "### Load pre-shuffled MNIST data into train and test sets"
      ]
    },
    {
      "cell_type": "code",
      "metadata": {
        "id": "7eRM0QWN83PV",
        "colab_type": "code",
        "colab": {
          "base_uri": "https://localhost:8080/",
          "height": 51
        },
        "outputId": "bee8cca5-0ce4-4370-e58f-cff6cb39a06b"
      },
      "source": [
        "(X_train, y_train), (X_test, y_test) = mnist.load_data()"
      ],
      "execution_count": 3,
      "outputs": [
        {
          "output_type": "stream",
          "text": [
            "Downloading data from https://s3.amazonaws.com/img-datasets/mnist.npz\n",
            "11493376/11490434 [==============================] - 2s 0us/step\n"
          ],
          "name": "stdout"
        }
      ]
    },
    {
      "cell_type": "markdown",
      "metadata": {
        "id": "sn-DH702Gwv2",
        "colab_type": "text"
      },
      "source": [
        "Printing the shape of the input data and Displaying the First image using MATPLOTLIB\n",
        "\n"
      ]
    },
    {
      "cell_type": "code",
      "metadata": {
        "id": "4a4Be72j8-ZC",
        "colab_type": "code",
        "outputId": "e4fe8fe0-a8dc-4a70-f74d-36f96b25a641",
        "colab": {
          "base_uri": "https://localhost:8080/",
          "height": 303
        }
      },
      "source": [
        "print (X_train.shape)\n",
        "from matplotlib import pyplot as plt\n",
        "%matplotlib inline\n",
        "plt.imshow(X_train[0])"
      ],
      "execution_count": 4,
      "outputs": [
        {
          "output_type": "stream",
          "text": [
            "(60000, 28, 28)\n"
          ],
          "name": "stdout"
        },
        {
          "output_type": "execute_result",
          "data": {
            "text/plain": [
              "<matplotlib.image.AxesImage at 0x7fc2f1e1ce10>"
            ]
          },
          "metadata": {
            "tags": []
          },
          "execution_count": 4
        },
        {
          "output_type": "display_data",
          "data": {
            "image/png": "[encoded data removed]",
            "text/plain": [
              "<Figure size 432x288 with 1 Axes>"
            ]
          },
          "metadata": {
            "tags": []
          }
        }
      ]
    },
    {
      "cell_type": "markdown",
      "metadata": {
        "id": "DpSlAYqfG2TO",
        "colab_type": "text"
      },
      "source": [
        "**Reshaping of the images in the dataset**\n",
        "\n",
        "The dataset consists images of dimension 28x28 which is hard to accomodate in a multilayer neural network thus we convert the images using ***reshape()*** funtion"
      ]
    },
    {
      "cell_type": "code",
      "metadata": {
        "id": "dkmprriw9AnZ",
        "colab_type": "code",
        "colab": {}
      },
      "source": [
        "X_train = X_train.reshape(X_train.shape[0], 28, 28,1)\n",
        "X_test = X_test.reshape(X_test.shape[0], 28, 28,1)"
      ],
      "execution_count": 0,
      "outputs": []
    },
    {
      "cell_type": "markdown",
      "metadata": {
        "id": "CHsDqS9wG-DI",
        "colab_type": "text"
      },
      "source": [
        "The pixel value of any cell can range from 0-255, just to normalize it we are dividing each cell value by 255. So, max and min value will range between 0-1 for easier calculation"
      ]
    },
    {
      "cell_type": "code",
      "metadata": {
        "id": "X2m4YS4E9CRh",
        "colab_type": "code",
        "colab": {}
      },
      "source": [
        "X_train = X_train.astype('float32')\n",
        "X_test = X_test.astype('float32')\n",
        "X_train /= 255\n",
        "X_test /= 255"
      ],
      "execution_count": 0,
      "outputs": []
    },
    {
      "cell_type": "markdown",
      "metadata": {
        "id": "USa7KxZ5HDpL",
        "colab_type": "text"
      },
      "source": [
        "First 10 actual output from the training data set\n",
        "\n"
      ]
    },
    {
      "cell_type": "code",
      "metadata": {
        "id": "0Mn0vAYD9DvB",
        "colab_type": "code",
        "outputId": "4034405c-78ea-4802-9958-340bab5900f9",
        "colab": {
          "base_uri": "https://localhost:8080/",
          "height": 34
        }
      },
      "source": [
        "y_train[:10]"
      ],
      "execution_count": 7,
      "outputs": [
        {
          "output_type": "execute_result",
          "data": {
            "text/plain": [
              "array([5, 0, 4, 1, 9, 2, 1, 3, 1, 4], dtype=uint8)"
            ]
          },
          "metadata": {
            "tags": []
          },
          "execution_count": 7
        }
      ]
    },
    {
      "cell_type": "markdown",
      "metadata": {
        "id": "cbx6fpoFHKKA",
        "colab_type": "text"
      },
      "source": [
        "**One Hot Encoding is performed**\n",
        "\n",
        "Converting the output into one hot encoded vectors for both Train dataset and Test dataset"
      ]
    },
    {
      "cell_type": "code",
      "metadata": {
        "id": "ZG8JiXR39FHC",
        "colab_type": "code",
        "colab": {}
      },
      "source": [
        "# Convert 1-dimensional class arrays to 10-dimensional class matrices\n",
        "Y_train = np_utils.to_categorical(y_train, 10)\n",
        "Y_test = np_utils.to_categorical(y_test, 10)"
      ],
      "execution_count": 0,
      "outputs": []
    },
    {
      "cell_type": "markdown",
      "metadata": {
        "id": "ro-BKn4GHSED",
        "colab_type": "text"
      },
      "source": [
        "Printing the output of the first 10 data after One Hot Encoding"
      ]
    },
    {
      "cell_type": "code",
      "metadata": {
        "id": "fYlFRvKS9HMB",
        "colab_type": "code",
        "outputId": "c6089ea7-216c-4ef7-ac73-324a47c836fb",
        "colab": {
          "base_uri": "https://localhost:8080/",
          "height": 187
        }
      },
      "source": [
        "Y_train[:10]\n"
      ],
      "execution_count": 9,
      "outputs": [
        {
          "output_type": "execute_result",
          "data": {
            "text/plain": [
              "array([[0., 0., 0., 0., 0., 1., 0., 0., 0., 0.],\n",
              "       [1., 0., 0., 0., 0., 0., 0., 0., 0., 0.],\n",
              "       [0., 0., 0., 0., 1., 0., 0., 0., 0., 0.],\n",
              "       [0., 1., 0., 0., 0., 0., 0., 0., 0., 0.],\n",
              "       [0., 0., 0., 0., 0., 0., 0., 0., 0., 1.],\n",
              "       [0., 0., 1., 0., 0., 0., 0., 0., 0., 0.],\n",
              "       [0., 1., 0., 0., 0., 0., 0., 0., 0., 0.],\n",
              "       [0., 0., 0., 1., 0., 0., 0., 0., 0., 0.],\n",
              "       [0., 1., 0., 0., 0., 0., 0., 0., 0., 0.],\n",
              "       [0., 0., 0., 0., 1., 0., 0., 0., 0., 0.]], dtype=float32)"
            ]
          },
          "metadata": {
            "tags": []
          },
          "execution_count": 9
        }
      ]
    },
    {
      "cell_type": "markdown",
      "metadata": {
        "id": "qmKzweBNHUSo",
        "colab_type": "text"
      },
      "source": [
        "\n",
        "Defining the structure of the neural network\n",
        "\n",
        "1. 1st, Convolution layer, input=28x28x1 => Channel=(3x3x1), kernel=32 => Output = 26x26x32\n",
        "2. 2nd, Convolution layer, input=28x28x1 => Channel=(3x3x1), kernel=16 => Output = 24x24x16\n",
        "3. 3rd, Convolution layer, input=28x28x1 => Channel=(3x3x1), kernel=16 => Output = 22x22x16\n",
        "4. 4th, Maxpooling layer, input=22x22x16 => Max pooling channel=(2x2) => Output = 11x11x16\n",
        "5. 5th, Convolution layer, input=11x11x16 => Channel=(3x3x1), kernel=16 => Output = 9x9x16\n",
        "6. 6th, Convolution layer, input=9x9x16 => Channel=(3x3x1), kernel=14 => Output = 7x7x14\n",
        "7. 7th, Convolution layer, input=7x7x14 => Channel=(3x3x1), kernel=12 => Output = 5x5x12\n",
        "8. 8th, Convolution layer, input=5x5x12 => Channel=(3x3x1), kernel=10 => Output = 3x3x10\n",
        "9. 9th, Convolution layer, input=3x3x10 => Channel=(3x3x1), kernel=10 => Output = 1x1x10\n",
        "10. 10th, Maxpooling layer, input=1x1x10 => Max pooling channel=(2x2) => Output = 1x1x10\n",
        "11. 11th, Flattening the 1x1x10 into a 1-D array\n",
        "12. 12th, Using softmax activation we are predicting different label for the input image\n",
        "\n",
        "\n"
      ]
    },
    {
      "cell_type": "code",
      "metadata": {
        "id": "osKqT73Q9JJB",
        "colab_type": "code",
        "outputId": "4ca97774-b994-441f-c269-dc0e99ca4a7e",
        "colab": {
          "base_uri": "https://localhost:8080/",
          "height": 88
        }
      },
      "source": [
        "from keras.layers import Activation\n",
        "model = Sequential()\n",
        "\n",
        "# Convolution layer, input=28x28x1 => Channel=(3x3x1), kernel=32 => Output = 26x26x32\n",
        "model.add(Conv2D(32, (3, 3), activation = 'relu', input_shape = (28,28,1)))\n",
        "model.add(BatchNormalization())\n",
        "\n",
        "# Convolution layer, input=28x28x1 => Channel=(3x3x1), kernel=16 => Output = 24x24x16\n",
        "model.add(Conv2D(16, (3, 3), activation = 'relu'))\n",
        "model.add(BatchNormalization())\n",
        "\n",
        "\n",
        "# Convolution layer, input=28x28x1 => Channel=(3x3x1), kernel=16 => Output = 22x22x16\n",
        "model.add(Conv2D(16, (3, 3), activation = 'relu'))\n",
        "model.add(BatchNormalization())\n",
        "\n",
        "\n",
        "# Maxpooling layer, input=22x22x16 => Max pooling channel=(2x2) => Output = 11x11x16\n",
        "model.add(MaxPooling2D())\n",
        "\n",
        "# Convolution layer, input=11x11x16 => Channel=(3x3x1), kernel=16 => Output = 9x9x16\n",
        "model.add(Conv2D(16, (3, 3), activation = 'relu'))\n",
        "model.add(BatchNormalization())\n",
        "\n",
        "\n",
        "# Convolution layer, input=9x9x16 => Channel=(3x3x1), kernel=14 => Output = 7x7x14\n",
        "model.add(Conv2D(14, (3, 3), activation = 'relu'))\n",
        "model.add(BatchNormalization())\n",
        "\n",
        "\n",
        "# Convolution layer, input=7x7x14 => Channel=(3x3x1), kernel=12 => Output = 5x5x12\n",
        "model.add(Conv2D(12, (3, 3), activation = 'relu'))\n",
        "model.add(BatchNormalization())\n",
        "\n",
        "\n",
        "# Convolution layer, input=5x5x12 => Channel=(3x3x1), kernel=10 => Output = 3x3x10\n",
        "model.add(Conv2D(10, (3, 3), activation = 'relu'))\n",
        "model.add(BatchNormalization())\n",
        "\n",
        "\n",
        "# Convolution layer, input=3x3x10 => Channel=(3x3x1), kernel=10 => Output = 1x1x10\n",
        "model.add(Conv2D(10, (1, 1), activation = 'relu'))\n",
        "model.add(BatchNormalization())\n",
        "\n",
        "\n",
        "\n",
        "# Maxpooling layer, input=1x1x10 => Max pooling channel=(2x2) => Output = 1x1x10\n",
        "model.add(MaxPooling2D())\n",
        "model.add(Flatten())\n",
        "model.add(Activation('softmax'))"
      ],
      "execution_count": 10,
      "outputs": [
        {
          "output_type": "stream",
          "text": [
            "WARNING:tensorflow:From /usr/local/lib/python3.6/dist-packages/tensorflow/python/framework/op_def_library.py:263: colocate_with (from tensorflow.python.framework.ops) is deprecated and will be removed in a future version.\n",
            "Instructions for updating:\n",
            "Colocations handled automatically by placer.\n"
          ],
          "name": "stdout"
        }
      ]
    },
    {
      "cell_type": "code",
      "metadata": {
        "id": "TzdAYg1k9K7Z",
        "colab_type": "code",
        "outputId": "9ad96c48-199c-46ad-dee4-b4249bbd0efd",
        "colab": {
          "base_uri": "https://localhost:8080/",
          "height": 816
        }
      },
      "source": [
        "model.summary()"
      ],
      "execution_count": 11,
      "outputs": [
        {
          "output_type": "stream",
          "text": [
            "_________________________________________________________________\n",
            "Layer (type)                 Output Shape              Param #   \n",
            "=================================================================\n",
            "conv2d_1 (Conv2D)            (None, 26, 26, 32)        320       \n",
            "_________________________________________________________________\n",
            "batch_normalization_1 (Batch (None, 26, 26, 32)        128       \n",
            "_________________________________________________________________\n",
            "conv2d_2 (Conv2D)            (None, 24, 24, 16)        4624      \n",
            "_________________________________________________________________\n",
            "batch_normalization_2 (Batch (None, 24, 24, 16)        64        \n",
            "_________________________________________________________________\n",
            "conv2d_3 (Conv2D)            (None, 22, 22, 16)        2320      \n",
            "_________________________________________________________________\n",
            "batch_normalization_3 (Batch (None, 22, 22, 16)        64        \n",
            "_________________________________________________________________\n",
            "max_pooling2d_1 (MaxPooling2 (None, 11, 11, 16)        0         \n",
            "_________________________________________________________________\n",
            "conv2d_4 (Conv2D)            (None, 9, 9, 16)          2320      \n",
            "_________________________________________________________________\n",
            "batch_normalization_4 (Batch (None, 9, 9, 16)          64        \n",
            "_________________________________________________________________\n",
            "conv2d_5 (Conv2D)            (None, 7, 7, 14)          2030      \n",
            "_________________________________________________________________\n",
            "batch_normalization_5 (Batch (None, 7, 7, 14)          56        \n",
            "_________________________________________________________________\n",
            "conv2d_6 (Conv2D)            (None, 5, 5, 12)          1524      \n",
            "_________________________________________________________________\n",
            "batch_normalization_6 (Batch (None, 5, 5, 12)          48        \n",
            "_________________________________________________________________\n",
            "conv2d_7 (Conv2D)            (None, 3, 3, 10)          1090      \n",
            "_________________________________________________________________\n",
            "batch_normalization_7 (Batch (None, 3, 3, 10)          40        \n",
            "_________________________________________________________________\n",
            "conv2d_8 (Conv2D)            (None, 3, 3, 10)          110       \n",
            "_________________________________________________________________\n",
            "batch_normalization_8 (Batch (None, 3, 3, 10)          40        \n",
            "_________________________________________________________________\n",
            "max_pooling2d_2 (MaxPooling2 (None, 1, 1, 10)          0         \n",
            "_________________________________________________________________\n",
            "flatten_1 (Flatten)          (None, 10)                0         \n",
            "_________________________________________________________________\n",
            "activation_1 (Activation)    (None, 10)                0         \n",
            "=================================================================\n",
            "Total params: 14,842\n",
            "Trainable params: 14,590\n",
            "Non-trainable params: 252\n",
            "_________________________________________________________________\n"
          ],
          "name": "stdout"
        }
      ]
    },
    {
      "cell_type": "markdown",
      "metadata": {
        "id": "ypHw-3EjNITi",
        "colab_type": "text"
      },
      "source": [
        "\n",
        "Compiling the model based on following:\n",
        "\n",
        "1. Optimization method: We are using 'adam' optimization method here.\n",
        "\n",
        "2. For loss function we are using: binary crossentropy"
      ]
    },
    {
      "cell_type": "code",
      "metadata": {
        "id": "Zp6SuGrL9M3h",
        "colab_type": "code",
        "colab": {}
      },
      "source": [
        "model.compile(loss='binary_crossentropy',\n",
        "             optimizer='adam',\n",
        "             metrics=['accuracy'])"
      ],
      "execution_count": 0,
      "outputs": []
    },
    {
      "cell_type": "markdown",
      "metadata": {
        "id": "7OY_57KcNRKK",
        "colab_type": "text"
      },
      "source": [
        "Start training the model:\n",
        "\n",
        "1. Batch size: set to 32\n",
        "2. Epochs: set to 10"
      ]
    },
    {
      "cell_type": "code",
      "metadata": {
        "id": "4xWoKhPY9Of5",
        "colab_type": "code",
        "outputId": "592645af-f632-4361-a76c-08b5e29d752e",
        "colab": {
          "base_uri": "https://localhost:8080/",
          "height": 374
        }
      },
      "source": [
        "model.fit(X_train, Y_train, batch_size=32, epochs=10, verbose=1)"
      ],
      "execution_count": 19,
      "outputs": [
        {
          "output_type": "stream",
          "text": [
            "Epoch 1/10\n",
            "60000/60000 [==============================] - 21s 357us/step - loss: 0.0083 - acc: 0.9976\n",
            "Epoch 2/10\n",
            "60000/60000 [==============================] - 21s 347us/step - loss: 0.0079 - acc: 0.9977\n",
            "Epoch 3/10\n",
            "60000/60000 [==============================] - 21s 342us/step - loss: 0.0073 - acc: 0.9977\n",
            "Epoch 4/10\n",
            "60000/60000 [==============================] - 21s 344us/step - loss: 0.0071 - acc: 0.9978\n",
            "Epoch 5/10\n",
            "60000/60000 [==============================] - 21s 355us/step - loss: 0.0071 - acc: 0.9979\n",
            "Epoch 6/10\n",
            "60000/60000 [==============================] - 20s 340us/step - loss: 0.0063 - acc: 0.9981\n",
            "Epoch 7/10\n",
            "60000/60000 [==============================] - 20s 336us/step - loss: 0.0061 - acc: 0.9983\n",
            "Epoch 8/10\n",
            "60000/60000 [==============================] - 20s 336us/step - loss: 0.0059 - acc: 0.9982\n",
            "Epoch 9/10\n",
            "60000/60000 [==============================] - 21s 358us/step - loss: 0.0056 - acc: 0.9982\n",
            "Epoch 10/10\n",
            "60000/60000 [==============================] - 20s 335us/step - loss: 0.0052 - acc: 0.9985\n"
          ],
          "name": "stdout"
        },
        {
          "output_type": "execute_result",
          "data": {
            "text/plain": [
              "<keras.callbacks.History at 0x7fc2c17bb438>"
            ]
          },
          "metadata": {
            "tags": []
          },
          "execution_count": 19
        }
      ]
    },
    {
      "cell_type": "markdown",
      "metadata": {
        "id": "zenmgcWvNX7P",
        "colab_type": "text"
      },
      "source": [
        "Evaluating the model performance\n",
        "\n"
      ]
    },
    {
      "cell_type": "code",
      "metadata": {
        "id": "AtsH-lLk-eLb",
        "colab_type": "code",
        "colab": {}
      },
      "source": [
        "score = model.evaluate(X_test, Y_test, verbose=0)"
      ],
      "execution_count": 0,
      "outputs": []
    },
    {
      "cell_type": "markdown",
      "metadata": {
        "id": "QhtykFPANftX",
        "colab_type": "text"
      },
      "source": [
        "Printing the model performance Score\n",
        "\n"
      ]
    },
    {
      "cell_type": "code",
      "metadata": {
        "id": "mkX8JMv79q9r",
        "colab_type": "code",
        "outputId": "df05335f-5dc4-4101-aa14-7cc14c20ce74",
        "colab": {
          "base_uri": "https://localhost:8080/",
          "height": 34
        }
      },
      "source": [
        "print(score)"
      ],
      "execution_count": 21,
      "outputs": [
        {
          "output_type": "stream",
          "text": [
            "[0.006351133722811937, 0.9981299961090088]\n"
          ],
          "name": "stdout"
        }
      ]
    },
    {
      "cell_type": "code",
      "metadata": {
        "id": "OCWoJkwE9suh",
        "colab_type": "code",
        "colab": {}
      },
      "source": [
        "y_pred = model.predict(X_test)"
      ],
      "execution_count": 0,
      "outputs": []
    },
    {
      "cell_type": "code",
      "metadata": {
        "id": "Ym7iCFBm9uBs",
        "colab_type": "code",
        "outputId": "09f9a4ec-a5ce-4e1e-c226-72ffaa0ebd4f",
        "colab": {
          "base_uri": "https://localhost:8080/",
          "height": 493
        }
      },
      "source": [
        "print(y_pred[:9])\n",
        "print(y_test[:9])"
      ],
      "execution_count": 17,
      "outputs": [
        {
          "output_type": "stream",
          "text": [
            "[[1.81191626e-05 1.64610519e-05 4.30561413e-05 1.27573621e-05\n",
            "  7.26377475e-05 1.09136263e-05 1.78871087e-05 9.99761164e-01\n",
            "  2.10171129e-05 2.61187306e-05]\n",
            " [1.57980219e-04 1.88849765e-06 9.99791682e-01 3.68810834e-05\n",
            "  4.92419804e-06 6.24131474e-07 2.49718300e-06 9.06754167e-07\n",
            "  1.20193249e-06 1.49368520e-06]\n",
            " [1.68464176e-04 9.99124944e-01 1.06311090e-05 9.21601895e-06\n",
            "  9.16229146e-06 2.52998638e-04 1.93856031e-05 3.62565945e-04\n",
            "  2.98011018e-05 1.28742595e-05]\n",
            " [9.97869849e-01 1.30804488e-04 1.71385269e-04 1.01373851e-04\n",
            "  1.47706276e-04 8.67229683e-05 1.42136356e-04 9.75386065e-04\n",
            "  1.67008329e-04 2.07547317e-04]\n",
            " [2.92074954e-04 2.65346782e-04 3.47668247e-04 2.05644508e-04\n",
            "  9.97409523e-01 1.75924230e-04 2.88334326e-04 2.55587249e-04\n",
            "  3.38789279e-04 4.21025557e-04]\n",
            " [2.98777832e-05 9.99774635e-01 3.55404973e-06 4.12971167e-06\n",
            "  3.06301422e-06 5.69762451e-05 2.94750998e-06 1.07053609e-04\n",
            "  1.34302263e-05 4.30394948e-06]\n",
            " [1.11080483e-02 1.00915339e-02 1.32223368e-02 2.16834489e-02\n",
            "  8.24973702e-01 6.69065956e-03 1.09657915e-02 7.23676383e-02\n",
            "  1.28846588e-02 1.60122290e-02]\n",
            " [7.31136897e-05 6.64229519e-05 8.70299991e-05 5.14779786e-05\n",
            "  8.46359326e-05 5.23887174e-05 7.21773104e-05 6.39798382e-05\n",
            "  8.48073832e-05 9.99363959e-01]\n",
            " [1.28903845e-03 1.17107655e-03 1.53439271e-03 9.07587819e-04\n",
            "  1.32239750e-03 9.88015473e-01 1.27253018e-03 1.12800417e-03\n",
            "  1.50130282e-03 1.85814663e-03]]\n",
            "[7 2 1 0 4 1 4 9 5]\n"
          ],
          "name": "stdout"
        }
      ]
    },
    {
      "cell_type": "code",
      "metadata": {
        "id": "CT--y98_dr2T",
        "colab_type": "code",
        "colab": {}
      },
      "source": [
        "layer_dict = dict([(layer.name, layer) for layer in model.layers])"
      ],
      "execution_count": 0,
      "outputs": []
    },
    {
      "cell_type": "code",
      "metadata": {
        "id": "2GY4Upv4dsUR",
        "colab_type": "code",
        "colab": {}
      },
      "source": [
        "import numpy as np\n",
        "from matplotlib import pyplot as plt\n",
        "from keras import backend as K\n",
        "%matplotlib inline\n",
        "# util function to convert a tensor into a valid image\n",
        "def deprocess_image(x):\n",
        "    # normalize tensor: center on 0., ensure std is 0.1\n",
        "    x -= x.mean()\n",
        "    x /= (x.std() + 1e-5)\n",
        "    x *= 0.1\n",
        "\n",
        "    # clip to [0, 1]\n",
        "    x += 0.5\n",
        "    x = np.clip(x, 0, 1)\n",
        "\n",
        "    # convert to RGB array\n",
        "    x *= 255\n",
        "    #x = x.transpose((1, 2, 0))\n",
        "    x = np.clip(x, 0, 255).astype('uint8')\n",
        "    return x\n",
        "\n",
        "def vis_img_in_filter(img = np.array(X_train[2]).reshape((1, 28, 28, 1)).astype(np.float64), \n",
        "                      layer_name = 'conv2d_14'):\n",
        "    layer_output = layer_dict[layer_name].output\n",
        "    img_ascs = list()\n",
        "    for filter_index in range(layer_output.shape[3]):\n",
        "        # build a loss function that maximizes the activation\n",
        "        # of the nth filter of the layer considered\n",
        "        loss = K.mean(layer_output[:, :, :, filter_index])\n",
        "\n",
        "        # compute the gradient of the input picture wrt this loss\n",
        "        grads = K.gradients(loss, model.input)[0]\n",
        "\n",
        "        # normalization trick: we normalize the gradient\n",
        "        grads /= (K.sqrt(K.mean(K.square(grads))) + 1e-5)\n",
        "\n",
        "        # this function returns the loss and grads given the input picture\n",
        "        iterate = K.function([model.input], [loss, grads])\n",
        "\n",
        "        # step size for gradient ascent\n",
        "        step = 5.\n",
        "\n",
        "        img_asc = np.array(img)\n",
        "        # run gradient ascent for 20 steps\n",
        "        for i in range(20):\n",
        "            loss_value, grads_value = iterate([img_asc])\n",
        "            img_asc += grads_value * step\n",
        "\n",
        "        img_asc = img_asc[0]\n",
        "        img_ascs.append(deprocess_image(img_asc).reshape((28, 28)))\n",
        "        \n",
        "    if layer_output.shape[3] >= 35:\n",
        "        plot_x, plot_y = 6, 6\n",
        "    elif layer_output.shape[3] >= 23:\n",
        "        plot_x, plot_y = 4, 6\n",
        "    elif layer_output.shape[3] >= 11:\n",
        "        plot_x, plot_y = 2, 6\n",
        "    else:\n",
        "        plot_x, plot_y = 1, 2\n",
        "    fig, ax = plt.subplots(plot_x, plot_y, figsize = (12, 12))\n",
        "    ax[0, 0].imshow(img.reshape((28, 28)), cmap = 'gray')\n",
        "    ax[0, 0].set_title('Input image')\n",
        "    fig.suptitle('Input image and %s filters' % (layer_name,))\n",
        "    fig.tight_layout(pad = 0.3, rect = [0, 0, 0.9, 0.9])\n",
        "    for (x, y) in [(i, j) for i in range(plot_x) for j in range(plot_y)]:\n",
        "        if x == 0 and y == 0:\n",
        "            continue\n",
        "        ax[x, y].imshow(img_ascs[x * plot_y + y - 1], cmap = 'gray')\n",
        "        ax[x, y].set_title('filter %d' % (x * plot_y + y - 1))\n",
        "\n",
        "vis_img_in_filter()"
      ],
      "execution_count": 0,
      "outputs": []
    },
    {
      "cell_type": "code",
      "metadata": {
        "id": "9tvptcn8dxvp",
        "colab_type": "code",
        "colab": {}
      },
      "source": [
        ""
      ],
      "execution_count": 0,
      "outputs": []
    }
  ]
}