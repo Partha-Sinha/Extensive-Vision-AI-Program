{
  "nbformat": 4,
  "nbformat_minor": 0,
  "metadata": {
    "colab": {
      "name": "Session5.ipynb",
      "version": "0.3.2",
      "provenance": [],
      "collapsed_sections": []
    },
    "kernelspec": {
      "name": "python3",
      "display_name": "Python 3"
    },
    "accelerator": "GPU"
  },
  "cells": [
    {
      "cell_type": "markdown",
      "metadata": {
        "id": "aNyZv-Ec52ot",
        "colab_type": "text"
      },
      "source": [
        "# **Import Libraries and modules**"
      ]
    },
    {
      "cell_type": "code",
      "metadata": {
        "id": "3m3w1Cw49Zkt",
        "colab_type": "code",
        "outputId": "3e856d9d-1ade-4cc6-b4e2-5d1ef77839a2",
        "colab": {
          "base_uri": "https://localhost:8080/",
          "height": 34
        }
      },
      "source": [
        "# https://keras.io/\n",
        "!pip install -q keras\n",
        "import keras"
      ],
      "execution_count": 1,
      "outputs": [
        {
          "output_type": "stream",
          "text": [
            "Using TensorFlow backend.\n"
          ],
          "name": "stderr"
        }
      ]
    },
    {
      "cell_type": "markdown",
      "metadata": {
        "id": "VAqusvONGncR",
        "colab_type": "text"
      },
      "source": [
        "Importing all the necessary libraries and the MNSIT dataset from Keras.\n",
        "\n",
        "* MNIST dataset has a training set of 60,000 examples, and a test set of 10,000 examples."
      ]
    },
    {
      "cell_type": "code",
      "metadata": {
        "id": "Eso6UHE080D4",
        "colab_type": "code",
        "colab": {}
      },
      "source": [
        "import numpy as np\n",
        "\n",
        "from keras.models import Sequential\n",
        "from keras.layers import Activation, Flatten, Add, BatchNormalization, Dropout\n",
        "from keras.layers import Conv2D, MaxPooling2D\n",
        "from keras.utils import np_utils\n",
        "\n",
        "from keras.datasets import mnist\n",
        "\n",
        "from keras.preprocessing.image import ImageDataGenerator\n",
        "from keras import regularizers\n",
        "from keras.callbacks import ModelCheckpoint "
      ],
      "execution_count": 0,
      "outputs": []
    },
    {
      "cell_type": "markdown",
      "metadata": {
        "id": "zByEi95J86RD",
        "colab_type": "text"
      },
      "source": [
        "### Load pre-shuffled MNIST data into train and test sets"
      ]
    },
    {
      "cell_type": "code",
      "metadata": {
        "id": "7eRM0QWN83PV",
        "colab_type": "code",
        "colab": {
          "base_uri": "https://localhost:8080/",
          "height": 51
        },
        "outputId": "e62d0772-f194-4448-e27f-c1ce0b926b64"
      },
      "source": [
        "(X_train, y_train), (X_test, y_test) = mnist.load_data()"
      ],
      "execution_count": 3,
      "outputs": [
        {
          "output_type": "stream",
          "text": [
            "Downloading data from https://s3.amazonaws.com/img-datasets/mnist.npz\n",
            "11493376/11490434 [==============================] - 0s 0us/step\n"
          ],
          "name": "stdout"
        }
      ]
    },
    {
      "cell_type": "markdown",
      "metadata": {
        "id": "sn-DH702Gwv2",
        "colab_type": "text"
      },
      "source": [
        "Printing the shape of the input data and Displaying the First image using MATPLOTLIB\n",
        "\n"
      ]
    },
    {
      "cell_type": "code",
      "metadata": {
        "id": "4a4Be72j8-ZC",
        "colab_type": "code",
        "outputId": "f5e35ee6-e6c6-44d5-bc02-b0c9d4ffa382",
        "colab": {
          "base_uri": "https://localhost:8080/",
          "height": 303
        }
      },
      "source": [
        "print (X_train.shape)\n",
        "from matplotlib import pyplot as plt\n",
        "%matplotlib inline\n",
        "plt.imshow(X_train[0])"
      ],
      "execution_count": 4,
      "outputs": [
        {
          "output_type": "stream",
          "text": [
            "(60000, 28, 28)\n"
          ],
          "name": "stdout"
        },
        {
          "output_type": "execute_result",
          "data": {
            "text/plain": [
              "<matplotlib.image.AxesImage at 0x7f3ba8196e10>"
            ]
          },
          "metadata": {
            "tags": []
          },
          "execution_count": 4
        },
        {
          "output_type": "display_data",
          "data": {
            "image/png": "[encoded data removed]",
            "text/plain": [
              "<Figure size 432x288 with 1 Axes>"
            ]
          },
          "metadata": {
            "tags": []
          }
        }
      ]
    },
    {
      "cell_type": "markdown",
      "metadata": {
        "id": "DpSlAYqfG2TO",
        "colab_type": "text"
      },
      "source": [
        "**Reshaping of the images in the dataset**\n",
        "\n",
        "The dataset consists images of dimension 28x28 which is hard to accomodate in a multilayer neural network thus we convert the images using ***reshape()*** funtion"
      ]
    },
    {
      "cell_type": "code",
      "metadata": {
        "id": "dkmprriw9AnZ",
        "colab_type": "code",
        "colab": {}
      },
      "source": [
        "X_train = X_train.reshape(X_train.shape[0], 28, 28,1)\n",
        "X_test = X_test.reshape(X_test.shape[0], 28, 28,1)"
      ],
      "execution_count": 0,
      "outputs": []
    },
    {
      "cell_type": "markdown",
      "metadata": {
        "id": "CHsDqS9wG-DI",
        "colab_type": "text"
      },
      "source": [
        "The pixel value of any cell can range from 0-255, just to normalize it we are dividing each cell value by 255. So, max and min value will range between 0-1 for easier calculation"
      ]
    },
    {
      "cell_type": "code",
      "metadata": {
        "id": "X2m4YS4E9CRh",
        "colab_type": "code",
        "colab": {}
      },
      "source": [
        "X_train = X_train.astype('float32')\n",
        "X_test = X_test.astype('float32')\n",
        "X_train /= 255\n",
        "X_test /= 255"
      ],
      "execution_count": 0,
      "outputs": []
    },
    {
      "cell_type": "markdown",
      "metadata": {
        "id": "USa7KxZ5HDpL",
        "colab_type": "text"
      },
      "source": [
        "First 10 actual output from the training data set\n",
        "\n"
      ]
    },
    {
      "cell_type": "code",
      "metadata": {
        "id": "0Mn0vAYD9DvB",
        "colab_type": "code",
        "outputId": "50bf4866-4994-4802-ec1c-7a460b01a637",
        "colab": {
          "base_uri": "https://localhost:8080/",
          "height": 34
        }
      },
      "source": [
        "y_train[:10]"
      ],
      "execution_count": 7,
      "outputs": [
        {
          "output_type": "execute_result",
          "data": {
            "text/plain": [
              "array([5, 0, 4, 1, 9, 2, 1, 3, 1, 4], dtype=uint8)"
            ]
          },
          "metadata": {
            "tags": []
          },
          "execution_count": 7
        }
      ]
    },
    {
      "cell_type": "markdown",
      "metadata": {
        "id": "cbx6fpoFHKKA",
        "colab_type": "text"
      },
      "source": [
        "**One Hot Encoding is performed**\n",
        "\n",
        "Converting the output into one hot encoded vectors for both Train dataset and Test dataset"
      ]
    },
    {
      "cell_type": "code",
      "metadata": {
        "id": "ZG8JiXR39FHC",
        "colab_type": "code",
        "colab": {}
      },
      "source": [
        "# Convert 1-dimensional class arrays to 10-dimensional class matrices\n",
        "Y_train = np_utils.to_categorical(y_train, 10)\n",
        "Y_test = np_utils.to_categorical(y_test, 10)"
      ],
      "execution_count": 0,
      "outputs": []
    },
    {
      "cell_type": "markdown",
      "metadata": {
        "id": "_cos6qliu_5S",
        "colab_type": "text"
      },
      "source": [
        "# Image Normalization"
      ]
    },
    {
      "cell_type": "code",
      "metadata": {
        "id": "Da37XR91tsK0",
        "colab_type": "code",
        "colab": {
          "base_uri": "https://localhost:8080/",
          "height": 51
        },
        "outputId": "e7a21160-a105-4a2a-d7c4-b49cd4657c34"
      },
      "source": [
        "print('Statistics train=%.3f (%.3f), test=%.3f (%.3f)' % (X_train.mean(), X_train.std(), X_test.mean(), X_test.std()))\n",
        "\n",
        "datagen = ImageDataGenerator(featurewise_center=True, featurewise_std_normalization=True)\n",
        "\n",
        "datagen.fit(X_train)\n",
        "print('Data Generator mean=%.3f, std=%.3f' % (datagen.mean, datagen.std))"
      ],
      "execution_count": 9,
      "outputs": [
        {
          "output_type": "stream",
          "text": [
            "Statistics train=0.131 (0.308), test=0.133 (0.310)\n",
            "Data Generator mean=0.131, std=0.308\n"
          ],
          "name": "stdout"
        }
      ]
    },
    {
      "cell_type": "code",
      "metadata": {
        "id": "fYlFRvKS9HMB",
        "colab_type": "code",
        "outputId": "9d44af40-1d5c-497a-8291-2c3983170666",
        "colab": {
          "base_uri": "https://localhost:8080/",
          "height": 187
        }
      },
      "source": [
        "Y_train[:10]\n"
      ],
      "execution_count": 10,
      "outputs": [
        {
          "output_type": "execute_result",
          "data": {
            "text/plain": [
              "array([[0., 0., 0., 0., 0., 1., 0., 0., 0., 0.],\n",
              "       [1., 0., 0., 0., 0., 0., 0., 0., 0., 0.],\n",
              "       [0., 0., 0., 0., 1., 0., 0., 0., 0., 0.],\n",
              "       [0., 1., 0., 0., 0., 0., 0., 0., 0., 0.],\n",
              "       [0., 0., 0., 0., 0., 0., 0., 0., 0., 1.],\n",
              "       [0., 0., 1., 0., 0., 0., 0., 0., 0., 0.],\n",
              "       [0., 1., 0., 0., 0., 0., 0., 0., 0., 0.],\n",
              "       [0., 0., 0., 1., 0., 0., 0., 0., 0., 0.],\n",
              "       [0., 1., 0., 0., 0., 0., 0., 0., 0., 0.],\n",
              "       [0., 0., 0., 0., 1., 0., 0., 0., 0., 0.]], dtype=float32)"
            ]
          },
          "metadata": {
            "tags": []
          },
          "execution_count": 10
        }
      ]
    },
    {
      "cell_type": "markdown",
      "metadata": {
        "id": "6m5HelgYvmye",
        "colab_type": "text"
      },
      "source": [
        "# Added regularizer(L2) and ReLu after Normalization"
      ]
    },
    {
      "cell_type": "code",
      "metadata": {
        "id": "osKqT73Q9JJB",
        "colab_type": "code",
        "outputId": "832960f1-ccd8-4005-e686-768b1395d841",
        "colab": {
          "base_uri": "https://localhost:8080/",
          "height": 139
        }
      },
      "source": [
        " model = Sequential()\n",
        "\n",
        " \n",
        "model.add(Conv2D(24, (3, 3), kernel_regularizer=regularizers.l2(0.01), input_shape=(28,28,1))) # 26\n",
        "model.add(BatchNormalization())\n",
        "model.add(Activation('relu'))\n",
        "model.add(Dropout(0.1))\n",
        "\n",
        "model.add(Conv2D(12, (3, 3), kernel_regularizer=regularizers.l2(0.01))) # 24\n",
        "model.add(BatchNormalization())\n",
        "model.add(Activation('relu'))\n",
        "model.add(Dropout(0.1))\n",
        "\n",
        "model.add(Conv2D(16, (3, 3), kernel_regularizer=regularizers.l2(0.01))) # 22\n",
        "model.add(BatchNormalization())\n",
        "model.add(Activation('relu'))\n",
        "model.add(Dropout(0.1))\n",
        "\n",
        "model.add(MaxPooling2D()) # 11\n",
        "model.add(Conv2D(10, (1, 1), kernel_regularizer=regularizers.l2(0.01))) # 11\n",
        "model.add(BatchNormalization())\n",
        "model.add(Activation('relu'))\n",
        "model.add(Dropout(0.1))\n",
        "\n",
        "model.add(Conv2D(12, (3, 3), kernel_regularizer=regularizers.l2(0.01))) # 9\n",
        "model.add(BatchNormalization())\n",
        "model.add(Activation('relu'))\n",
        "model.add(Dropout(0.1))\n",
        "\n",
        "model.add(Conv2D(16, (3, 3), kernel_regularizer=regularizers.l2(0.01))) # 7\n",
        "model.add(BatchNormalization())\n",
        "model.add(Activation('relu'))\n",
        "model.add(Dropout(0.1))\n",
        "\n",
        "model.add(Conv2D(10, 1, kernel_regularizer=regularizers.l2(0.01))) #7\n",
        "model.add(BatchNormalization())\n",
        "model.add(Activation('relu'))\n",
        "model.add(Conv2D(10, 7))\n",
        "\n",
        "model.add(Flatten())\n",
        "model.add(Activation('softmax'))"
      ],
      "execution_count": 11,
      "outputs": [
        {
          "output_type": "stream",
          "text": [
            "WARNING:tensorflow:From /usr/local/lib/python3.6/dist-packages/tensorflow/python/framework/op_def_library.py:263: colocate_with (from tensorflow.python.framework.ops) is deprecated and will be removed in a future version.\n",
            "Instructions for updating:\n",
            "Colocations handled automatically by placer.\n",
            "WARNING:tensorflow:From /usr/local/lib/python3.6/dist-packages/keras/backend/tensorflow_backend.py:3445: calling dropout (from tensorflow.python.ops.nn_ops) with keep_prob is deprecated and will be removed in a future version.\n",
            "Instructions for updating:\n",
            "Please use `rate` instead of `keep_prob`. Rate should be set to `rate = 1 - keep_prob`.\n"
          ],
          "name": "stdout"
        }
      ]
    },
    {
      "cell_type": "code",
      "metadata": {
        "id": "TzdAYg1k9K7Z",
        "colab_type": "code",
        "outputId": "24dfeee4-6e24-45c9-8106-b4a957ce3a96",
        "colab": {
          "base_uri": "https://localhost:8080/",
          "height": 1190
        }
      },
      "source": [
        "model.summary()"
      ],
      "execution_count": 12,
      "outputs": [
        {
          "output_type": "stream",
          "text": [
            "_________________________________________________________________\n",
            "Layer (type)                 Output Shape              Param #   \n",
            "=================================================================\n",
            "conv2d_1 (Conv2D)            (None, 26, 26, 24)        240       \n",
            "_________________________________________________________________\n",
            "batch_normalization_1 (Batch (None, 26, 26, 24)        96        \n",
            "_________________________________________________________________\n",
            "activation_1 (Activation)    (None, 26, 26, 24)        0         \n",
            "_________________________________________________________________\n",
            "dropout_1 (Dropout)          (None, 26, 26, 24)        0         \n",
            "_________________________________________________________________\n",
            "conv2d_2 (Conv2D)            (None, 24, 24, 12)        2604      \n",
            "_________________________________________________________________\n",
            "batch_normalization_2 (Batch (None, 24, 24, 12)        48        \n",
            "_________________________________________________________________\n",
            "activation_2 (Activation)    (None, 24, 24, 12)        0         \n",
            "_________________________________________________________________\n",
            "dropout_2 (Dropout)          (None, 24, 24, 12)        0         \n",
            "_________________________________________________________________\n",
            "conv2d_3 (Conv2D)            (None, 22, 22, 16)        1744      \n",
            "_________________________________________________________________\n",
            "batch_normalization_3 (Batch (None, 22, 22, 16)        64        \n",
            "_________________________________________________________________\n",
            "activation_3 (Activation)    (None, 22, 22, 16)        0         \n",
            "_________________________________________________________________\n",
            "dropout_3 (Dropout)          (None, 22, 22, 16)        0         \n",
            "_________________________________________________________________\n",
            "max_pooling2d_1 (MaxPooling2 (None, 11, 11, 16)        0         \n",
            "_________________________________________________________________\n",
            "conv2d_4 (Conv2D)            (None, 11, 11, 10)        170       \n",
            "_________________________________________________________________\n",
            "batch_normalization_4 (Batch (None, 11, 11, 10)        40        \n",
            "_________________________________________________________________\n",
            "activation_4 (Activation)    (None, 11, 11, 10)        0         \n",
            "_________________________________________________________________\n",
            "dropout_4 (Dropout)          (None, 11, 11, 10)        0         \n",
            "_________________________________________________________________\n",
            "conv2d_5 (Conv2D)            (None, 9, 9, 12)          1092      \n",
            "_________________________________________________________________\n",
            "batch_normalization_5 (Batch (None, 9, 9, 12)          48        \n",
            "_________________________________________________________________\n",
            "activation_5 (Activation)    (None, 9, 9, 12)          0         \n",
            "_________________________________________________________________\n",
            "dropout_5 (Dropout)          (None, 9, 9, 12)          0         \n",
            "_________________________________________________________________\n",
            "conv2d_6 (Conv2D)            (None, 7, 7, 16)          1744      \n",
            "_________________________________________________________________\n",
            "batch_normalization_6 (Batch (None, 7, 7, 16)          64        \n",
            "_________________________________________________________________\n",
            "activation_6 (Activation)    (None, 7, 7, 16)          0         \n",
            "_________________________________________________________________\n",
            "dropout_6 (Dropout)          (None, 7, 7, 16)          0         \n",
            "_________________________________________________________________\n",
            "conv2d_7 (Conv2D)            (None, 7, 7, 10)          170       \n",
            "_________________________________________________________________\n",
            "batch_normalization_7 (Batch (None, 7, 7, 10)          40        \n",
            "_________________________________________________________________\n",
            "activation_7 (Activation)    (None, 7, 7, 10)          0         \n",
            "_________________________________________________________________\n",
            "conv2d_8 (Conv2D)            (None, 1, 1, 10)          4910      \n",
            "_________________________________________________________________\n",
            "flatten_1 (Flatten)          (None, 10)                0         \n",
            "_________________________________________________________________\n",
            "activation_8 (Activation)    (None, 10)                0         \n",
            "=================================================================\n",
            "Total params: 13,074\n",
            "Trainable params: 12,874\n",
            "Non-trainable params: 200\n",
            "_________________________________________________________________\n"
          ],
          "name": "stdout"
        }
      ]
    },
    {
      "cell_type": "markdown",
      "metadata": {
        "id": "jjymw5CoxKdr",
        "colab_type": "text"
      },
      "source": [
        "# Adding ModelCheckpoint for saving the model with highest Validation Accuracy"
      ]
    },
    {
      "cell_type": "code",
      "metadata": {
        "id": "Zp6SuGrL9M3h",
        "colab_type": "code",
        "colab": {}
      },
      "source": [
        "from keras.optimizers import Adam\n",
        "from keras.callbacks import LearningRateScheduler\n",
        "model.compile(loss='categorical_crossentropy',\n",
        "             optimizer=Adam(lr=0.003),\n",
        "             metrics=['accuracy'])\n",
        "\n",
        "filepath=\"weights-improvement-{epoch:02d}-{val_acc:.2f}.hdf5\"\n",
        "checkpoint = ModelCheckpoint(filepath, monitor='val_acc', verbose=1, save_best_only=True, mode='max',save_weights_only=False)\n",
        "callbacks_list = [checkpoint]"
      ],
      "execution_count": 0,
      "outputs": []
    },
    {
      "cell_type": "code",
      "metadata": {
        "id": "4xWoKhPY9Of5",
        "colab_type": "code",
        "outputId": "2dca6848-acf2-4553-e609-ea44bfe6f1f0",
        "colab": {
          "base_uri": "https://localhost:8080/",
          "height": 2805
        }
      },
      "source": [
        "train_iterator = datagen.flow(X_train, Y_train, batch_size=64)\n",
        "test_iterator = datagen.flow(X_test, Y_test, batch_size=64)\n",
        "\n",
        "\n",
        "model.fit_generator(train_iterator, validation_data=test_iterator, validation_steps=len(X_test)/64, steps_per_epoch=len(X_train)/64, callbacks=callbacks_list, epochs=40)\n"
      ],
      "execution_count": 14,
      "outputs": [
        {
          "output_type": "stream",
          "text": [
            "WARNING:tensorflow:From /usr/local/lib/python3.6/dist-packages/tensorflow/python/ops/math_ops.py:3066: to_int32 (from tensorflow.python.ops.math_ops) is deprecated and will be removed in a future version.\n",
            "Instructions for updating:\n",
            "Use tf.cast instead.\n",
            "Epoch 1/40\n",
            "938/937 [==============================] - 19s 21ms/step - loss: 0.3712 - acc: 0.9427 - val_loss: 0.1820 - val_acc: 0.9674\n",
            "\n",
            "Epoch 00001: val_acc improved from -inf to 0.96740, saving model to weights-improvement-01-0.97.hdf5\n",
            "Epoch 2/40\n",
            "938/937 [==============================] - 14s 15ms/step - loss: 0.1661 - acc: 0.9713 - val_loss: 0.2692 - val_acc: 0.9387\n",
            "\n",
            "Epoch 00002: val_acc did not improve from 0.96740\n",
            "Epoch 3/40\n",
            "938/937 [==============================] - 14s 15ms/step - loss: 0.1568 - acc: 0.9726 - val_loss: 0.3087 - val_acc: 0.9281\n",
            "\n",
            "Epoch 00003: val_acc did not improve from 0.96740\n",
            "Epoch 4/40\n",
            "938/937 [==============================] - 14s 15ms/step - loss: 0.1493 - acc: 0.9744 - val_loss: 0.3477 - val_acc: 0.9109\n",
            "\n",
            "Epoch 00004: val_acc did not improve from 0.96740\n",
            "Epoch 5/40\n",
            "938/937 [==============================] - 14s 15ms/step - loss: 0.1443 - acc: 0.9751 - val_loss: 0.1600 - val_acc: 0.9693\n",
            "\n",
            "Epoch 00005: val_acc improved from 0.96740 to 0.96930, saving model to weights-improvement-05-0.97.hdf5\n",
            "Epoch 6/40\n",
            "938/937 [==============================] - 16s 17ms/step - loss: 0.1419 - acc: 0.9749 - val_loss: 0.2588 - val_acc: 0.9356\n",
            "\n",
            "Epoch 00006: val_acc did not improve from 0.96930\n",
            "Epoch 7/40\n",
            "938/937 [==============================] - 15s 16ms/step - loss: 0.1361 - acc: 0.9755 - val_loss: 0.1165 - val_acc: 0.9840\n",
            "\n",
            "Epoch 00007: val_acc improved from 0.96930 to 0.98400, saving model to weights-improvement-07-0.98.hdf5\n",
            "Epoch 8/40\n",
            "938/937 [==============================] - 14s 15ms/step - loss: 0.1326 - acc: 0.9762 - val_loss: 0.1310 - val_acc: 0.9759\n",
            "\n",
            "Epoch 00008: val_acc did not improve from 0.98400\n",
            "Epoch 9/40\n",
            "938/937 [==============================] - 14s 15ms/step - loss: 0.1286 - acc: 0.9771 - val_loss: 0.1150 - val_acc: 0.9817\n",
            "\n",
            "Epoch 00009: val_acc did not improve from 0.98400\n",
            "Epoch 10/40\n",
            "938/937 [==============================] - 14s 15ms/step - loss: 0.1268 - acc: 0.9769 - val_loss: 0.2361 - val_acc: 0.9409\n",
            "\n",
            "Epoch 00010: val_acc did not improve from 0.98400\n",
            "Epoch 11/40\n",
            "938/937 [==============================] - 14s 15ms/step - loss: 0.1255 - acc: 0.9774 - val_loss: 0.2436 - val_acc: 0.9423\n",
            "\n",
            "Epoch 00011: val_acc did not improve from 0.98400\n",
            "Epoch 12/40\n",
            "938/937 [==============================] - 15s 16ms/step - loss: 0.1248 - acc: 0.9772 - val_loss: 0.6189 - val_acc: 0.8118\n",
            "\n",
            "Epoch 00012: val_acc did not improve from 0.98400\n",
            "Epoch 13/40\n",
            "938/937 [==============================] - 14s 15ms/step - loss: 0.1257 - acc: 0.9774 - val_loss: 0.1414 - val_acc: 0.9724\n",
            "\n",
            "Epoch 00013: val_acc did not improve from 0.98400\n",
            "Epoch 14/40\n",
            "938/937 [==============================] - 14s 15ms/step - loss: 0.1203 - acc: 0.9782 - val_loss: 0.1734 - val_acc: 0.9581\n",
            "\n",
            "Epoch 00014: val_acc did not improve from 0.98400\n",
            "Epoch 15/40\n",
            "938/937 [==============================] - 14s 15ms/step - loss: 0.1187 - acc: 0.9782 - val_loss: 0.1113 - val_acc: 0.9801\n",
            "\n",
            "Epoch 00015: val_acc did not improve from 0.98400\n",
            "Epoch 16/40\n",
            "938/937 [==============================] - 14s 15ms/step - loss: 0.1176 - acc: 0.9781 - val_loss: 0.1135 - val_acc: 0.9804\n",
            "\n",
            "Epoch 00016: val_acc did not improve from 0.98400\n",
            "Epoch 17/40\n",
            "938/937 [==============================] - 15s 16ms/step - loss: 0.1209 - acc: 0.9782 - val_loss: 0.1367 - val_acc: 0.9726\n",
            "\n",
            "Epoch 00017: val_acc did not improve from 0.98400\n",
            "Epoch 18/40\n",
            "938/937 [==============================] - 14s 15ms/step - loss: 0.1171 - acc: 0.9791 - val_loss: 0.1086 - val_acc: 0.9804\n",
            "\n",
            "Epoch 00018: val_acc did not improve from 0.98400\n",
            "Epoch 19/40\n",
            "938/937 [==============================] - 14s 15ms/step - loss: 0.1163 - acc: 0.9786 - val_loss: 0.1002 - val_acc: 0.9850\n",
            "\n",
            "Epoch 00019: val_acc improved from 0.98400 to 0.98500, saving model to weights-improvement-19-0.98.hdf5\n",
            "Epoch 20/40\n",
            "938/937 [==============================] - 14s 15ms/step - loss: 0.1170 - acc: 0.9788 - val_loss: 0.1023 - val_acc: 0.9808\n",
            "\n",
            "Epoch 00020: val_acc did not improve from 0.98500\n",
            "Epoch 21/40\n",
            "938/937 [==============================] - 14s 15ms/step - loss: 0.1142 - acc: 0.9785 - val_loss: 0.1057 - val_acc: 0.9815\n",
            "\n",
            "Epoch 00021: val_acc did not improve from 0.98500\n",
            "Epoch 22/40\n",
            "938/937 [==============================] - 14s 15ms/step - loss: 0.1133 - acc: 0.9786 - val_loss: 0.1342 - val_acc: 0.9724\n",
            "\n",
            "Epoch 00022: val_acc did not improve from 0.98500\n",
            "Epoch 23/40\n",
            "938/937 [==============================] - 16s 17ms/step - loss: 0.1146 - acc: 0.9778 - val_loss: 0.1212 - val_acc: 0.9758\n",
            "\n",
            "Epoch 00023: val_acc did not improve from 0.98500\n",
            "Epoch 24/40\n",
            "938/937 [==============================] - 14s 15ms/step - loss: 0.1122 - acc: 0.9792 - val_loss: 0.1459 - val_acc: 0.9695\n",
            "\n",
            "Epoch 00024: val_acc did not improve from 0.98500\n",
            "Epoch 25/40\n",
            "938/937 [==============================] - 14s 15ms/step - loss: 0.1127 - acc: 0.9788 - val_loss: 0.1141 - val_acc: 0.9786\n",
            "\n",
            "Epoch 00025: val_acc did not improve from 0.98500\n",
            "Epoch 26/40\n",
            "938/937 [==============================] - 14s 15ms/step - loss: 0.1121 - acc: 0.9789 - val_loss: 0.1153 - val_acc: 0.9780\n",
            "\n",
            "Epoch 00026: val_acc did not improve from 0.98500\n",
            "Epoch 27/40\n",
            "938/937 [==============================] - 15s 16ms/step - loss: 0.1131 - acc: 0.9788 - val_loss: 0.1139 - val_acc: 0.9784\n",
            "\n",
            "Epoch 00027: val_acc did not improve from 0.98500\n",
            "Epoch 28/40\n",
            "938/937 [==============================] - 16s 17ms/step - loss: 0.1116 - acc: 0.9795 - val_loss: 0.1234 - val_acc: 0.9760\n",
            "\n",
            "Epoch 00028: val_acc did not improve from 0.98500\n",
            "Epoch 29/40\n",
            "938/937 [==============================] - 14s 15ms/step - loss: 0.1114 - acc: 0.9796 - val_loss: 0.1052 - val_acc: 0.9815\n",
            "\n",
            "Epoch 00029: val_acc did not improve from 0.98500\n",
            "Epoch 30/40\n",
            "938/937 [==============================] - 14s 15ms/step - loss: 0.1105 - acc: 0.9788 - val_loss: 0.1065 - val_acc: 0.9793\n",
            "\n",
            "Epoch 00030: val_acc did not improve from 0.98500\n",
            "Epoch 31/40\n",
            "938/937 [==============================] - 14s 15ms/step - loss: 0.1099 - acc: 0.9792 - val_loss: 0.1102 - val_acc: 0.9785\n",
            "\n",
            "Epoch 00031: val_acc did not improve from 0.98500\n",
            "Epoch 32/40\n",
            "938/937 [==============================] - 14s 15ms/step - loss: 0.1084 - acc: 0.9791 - val_loss: 0.1634 - val_acc: 0.9610\n",
            "\n",
            "Epoch 00032: val_acc did not improve from 0.98500\n",
            "Epoch 33/40\n",
            "938/937 [==============================] - 14s 15ms/step - loss: 0.1098 - acc: 0.9788 - val_loss: 0.1131 - val_acc: 0.9775\n",
            "\n",
            "Epoch 00033: val_acc did not improve from 0.98500\n",
            "Epoch 34/40\n",
            "938/937 [==============================] - 15s 16ms/step - loss: 0.1085 - acc: 0.9796 - val_loss: 0.0953 - val_acc: 0.9851\n",
            "\n",
            "Epoch 00034: val_acc improved from 0.98500 to 0.98510, saving model to weights-improvement-34-0.99.hdf5\n",
            "Epoch 35/40\n",
            "938/937 [==============================] - 14s 15ms/step - loss: 0.1103 - acc: 0.9791 - val_loss: 0.0917 - val_acc: 0.9866\n",
            "\n",
            "Epoch 00035: val_acc improved from 0.98510 to 0.98660, saving model to weights-improvement-35-0.99.hdf5\n",
            "Epoch 36/40\n",
            "938/937 [==============================] - 14s 15ms/step - loss: 0.1087 - acc: 0.9802 - val_loss: 0.1327 - val_acc: 0.9736\n",
            "\n",
            "Epoch 00036: val_acc did not improve from 0.98660\n",
            "Epoch 37/40\n",
            "938/937 [==============================] - 14s 15ms/step - loss: 0.1070 - acc: 0.9796 - val_loss: 0.1270 - val_acc: 0.9735\n",
            "\n",
            "Epoch 00037: val_acc did not improve from 0.98660\n",
            "Epoch 38/40\n",
            "938/937 [==============================] - 14s 15ms/step - loss: 0.1080 - acc: 0.9800 - val_loss: 0.1640 - val_acc: 0.9622\n",
            "\n",
            "Epoch 00038: val_acc did not improve from 0.98660\n",
            "Epoch 39/40\n",
            "938/937 [==============================] - 15s 16ms/step - loss: 0.1085 - acc: 0.9799 - val_loss: 0.1277 - val_acc: 0.9714\n",
            "\n",
            "Epoch 00039: val_acc did not improve from 0.98660\n",
            "Epoch 40/40\n",
            "938/937 [==============================] - 15s 16ms/step - loss: 0.1095 - acc: 0.9793 - val_loss: 0.0927 - val_acc: 0.9851\n",
            "\n",
            "Epoch 00040: val_acc did not improve from 0.98660\n"
          ],
          "name": "stdout"
        },
        {
          "output_type": "execute_result",
          "data": {
            "text/plain": [
              "<keras.callbacks.History at 0x7f3ba816f780>"
            ]
          },
          "metadata": {
            "tags": []
          },
          "execution_count": 14
        }
      ]
    },
    {
      "cell_type": "markdown",
      "metadata": {
        "id": "zenmgcWvNX7P",
        "colab_type": "text"
      },
      "source": [
        "# Loading the model from the saved checkpoint.\n",
        "\n"
      ]
    },
    {
      "cell_type": "code",
      "metadata": {
        "id": "AtsH-lLk-eLb",
        "colab_type": "code",
        "colab": {}
      },
      "source": [
        "from keras.models import load_model\n",
        "modelPath = 'weights-improvement-35-0.99.hdf5'\n",
        "model = load_model(modelPath)\n",
        "\n",
        "score = model.evaluate_generator(test_iterator, steps=len(test_iterator), verbose=0)"
      ],
      "execution_count": 0,
      "outputs": []
    },
    {
      "cell_type": "markdown",
      "metadata": {
        "id": "QhtykFPANftX",
        "colab_type": "text"
      },
      "source": [
        "Printing the model performance Score\n",
        "\n"
      ]
    },
    {
      "cell_type": "code",
      "metadata": {
        "id": "mkX8JMv79q9r",
        "colab_type": "code",
        "outputId": "49992ece-d931-499c-df97-b230261c424c",
        "colab": {
          "base_uri": "https://localhost:8080/",
          "height": 34
        }
      },
      "source": [
        "print(score)"
      ],
      "execution_count": 16,
      "outputs": [
        {
          "output_type": "stream",
          "text": [
            "[0.09077096511721611, 0.9873]\n"
          ],
          "name": "stdout"
        }
      ]
    },
    {
      "cell_type": "code",
      "metadata": {
        "id": "OCWoJkwE9suh",
        "colab_type": "code",
        "colab": {}
      },
      "source": [
        "y_pred = model.predict(X_test)"
      ],
      "execution_count": 0,
      "outputs": []
    },
    {
      "cell_type": "code",
      "metadata": {
        "id": "Ym7iCFBm9uBs",
        "colab_type": "code",
        "outputId": "08656ca3-e2f6-4e1c-fd16-c5a7ed6d6cf1",
        "colab": {
          "base_uri": "https://localhost:8080/",
          "height": 493
        }
      },
      "source": [
        "print(y_pred[:9])\n",
        "print(y_test[:9])"
      ],
      "execution_count": 18,
      "outputs": [
        {
          "output_type": "stream",
          "text": [
            "[[1.61673253e-08 1.49690538e-06 3.63003521e-04 2.67333700e-04\n",
            "  2.20569607e-09 2.08301046e-07 9.81673307e-14 9.99065578e-01\n",
            "  2.53125236e-08 3.02326720e-04]\n",
            " [3.30544516e-08 7.53478089e-04 9.99219775e-01 2.30636701e-08\n",
            "  4.96606090e-10 3.77179177e-08 2.65401140e-05 1.27238678e-10\n",
            "  1.24290565e-07 1.96638868e-11]\n",
            " [1.15877400e-13 9.99950171e-01 5.14195654e-06 4.51006400e-07\n",
            "  1.54418601e-07 2.19625945e-05 1.25521140e-08 2.00633385e-05\n",
            "  2.01049693e-06 5.39642713e-08]\n",
            " [9.99741018e-01 1.59211616e-10 8.83179894e-07 2.77027937e-07\n",
            "  1.06152527e-06 7.66470475e-06 1.86032223e-04 1.57929776e-07\n",
            "  5.84649115e-06 5.70192824e-05]\n",
            " [1.83135217e-06 3.74563297e-10 1.19541866e-07 5.04806899e-08\n",
            "  9.99667168e-01 5.57750525e-07 3.55874035e-05 1.73396638e-05\n",
            "  2.73343812e-05 2.49939767e-04]\n",
            " [9.23465514e-13 9.99934077e-01 5.59968976e-06 2.35340380e-07\n",
            "  3.74197498e-07 4.05574610e-06 1.19837225e-08 4.87499929e-05\n",
            "  6.84764018e-06 8.00683964e-08]\n",
            " [3.32192910e-12 3.31004867e-06 9.75369403e-07 2.12456328e-08\n",
            "  9.99090433e-01 2.17635488e-06 2.09227533e-08 4.42864868e-04\n",
            "  4.31016932e-04 2.91760662e-05]\n",
            " [7.05402215e-07 1.39647280e-04 6.08623552e-04 8.85369023e-04\n",
            "  1.61644686e-02 7.68929312e-04 1.18846015e-06 5.01703122e-04\n",
            "  2.61932582e-04 9.80667353e-01]\n",
            " [1.20019337e-07 1.77043102e-11 1.17686900e-08 4.17472670e-08\n",
            "  6.46288569e-08 8.72841835e-01 1.26517147e-01 7.24971860e-09\n",
            "  6.38691476e-04 1.98466682e-06]]\n",
            "[7 2 1 0 4 1 4 9 5]\n"
          ],
          "name": "stdout"
        }
      ]
    },
    {
      "cell_type": "code",
      "metadata": {
        "id": "CT--y98_dr2T",
        "colab_type": "code",
        "colab": {}
      },
      "source": [
        "layer_dict = dict([(layer.name, layer) for layer in model.layers])"
      ],
      "execution_count": 0,
      "outputs": []
    },
    {
      "cell_type": "markdown",
      "metadata": {
        "id": "ztP9qz7XF2UI",
        "colab_type": "text"
      },
      "source": [
        "# 25 Misclassified Images from Validation Dataset"
      ]
    },
    {
      "cell_type": "code",
      "metadata": {
        "id": "2GY4Upv4dsUR",
        "colab_type": "code",
        "outputId": "55c69c20-8dbe-478a-a37b-2302620bac9b",
        "colab": {
          "base_uri": "https://localhost:8080/",
          "height": 1016
        }
      },
      "source": [
        "import matplotlib.cm as cm\n",
        "\n",
        "# convert one-hot encodings into labels\n",
        "def one_hot_to_dense(labels_one_hot):\n",
        "    return np.argmax(labels_one_hot,1)\n",
        " \n",
        "y_pred = model.predict(X_test)\n",
        "\n",
        "\n",
        "valid_pred_label = one_hot_to_dense(y_pred)\n",
        "valid_label = one_hot_to_dense(Y_test)\n",
        "false_index = []\n",
        "\n",
        "for i in range(valid_label.shape[0]):\n",
        "    if valid_pred_label[i] != valid_label[i]:\n",
        "        false_index.append(i)\n",
        "\n",
        "print('Total false predictions: ', len(false_index),'out of', len(Y_test))\n",
        "\n",
        "plt.figure(figsize=(35, 35))\n",
        "\n",
        "for i in range(0,5):\n",
        "    for j in range(0,5):\n",
        "        if i*10+j<len(false_index):\n",
        "            plt.subplot(10,10,i*10+j+1)\n",
        "            plt.title('%d/%d'%(valid_label[false_index[i*10+j]],\n",
        "                               valid_pred_label[false_index[i*10+j]]))\n",
        "            plt.imshow(X_test[false_index[i*10+j]].reshape(28,28),cmap=cm.binary)"
      ],
      "execution_count": 28,
      "outputs": [
        {
          "output_type": "stream",
          "text": [
            "Total false predictions:  401 out of 10000\n"
          ],
          "name": "stdout"
        },
        {
          "output_type": "display_data",
          "data": {
            "image/png": "[encoded data removed]",
            "text/plain": [
              "<Figure size 2520x2520 with 25 Axes>"
            ]
          },
          "metadata": {
            "tags": []
          }
        }
      ]
    }
  ]
}