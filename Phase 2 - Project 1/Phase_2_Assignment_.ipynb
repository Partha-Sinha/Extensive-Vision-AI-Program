{
  "nbformat": 4,
  "nbformat_minor": 0,
  "metadata": {
    "colab": {
      "name": "Phase_2_Assignment .ipynb",
      "provenance": [],
      "collapsed_sections": []
    },
    "kernelspec": {
      "name": "python3",
      "display_name": "Python 3"
    },
    "accelerator": "GPU"
  },
  "cells": [
    {
      "cell_type": "markdown",
      "metadata": {
        "id": "LGyoFkhgyO2G",
        "colab_type": "text"
      },
      "source": [
        "# Import all Libraries"
      ]
    },
    {
      "cell_type": "code",
      "metadata": {
        "id": "VxJ5t5iBrLZ-",
        "colab_type": "code",
        "colab": {
          "base_uri": "https://localhost:8080/",
          "height": 82
        },
        "outputId": "0e6d468f-f1a9-4af7-f2f8-dd69b5927a26"
      },
      "source": [
        "import numpy as np\n",
        "import os\n",
        "from keras.preprocessing.text import Tokenizer\n",
        "from keras.preprocessing.sequence import pad_sequences\n"
      ],
      "execution_count": 1,
      "outputs": [
        {
          "output_type": "stream",
          "text": [
            "Using TensorFlow backend.\n"
          ],
          "name": "stderr"
        },
        {
          "output_type": "display_data",
          "data": {
            "text/html": [
              "<p style=\"color: red;\">\n",
              "The default version of TensorFlow in Colab will soon switch to TensorFlow 2.x.<br>\n",
              "We recommend you <a href=\"https://www.tensorflow.org/guide/migrate\" target=\"_blank\">upgrade</a> now \n",
              "or ensure your notebook will continue to use TensorFlow 1.x via the <code>%tensorflow_version 1.x</code> magic:\n",
              "<a href=\"https://colab.research.google.com/notebooks/tensorflow_version.ipynb\" target=\"_blank\">more info</a>.</p>\n"
            ],
            "text/plain": [
              "<IPython.core.display.HTML object>"
            ]
          },
          "metadata": {
            "tags": []
          }
        }
      ]
    },
    {
      "cell_type": "markdown",
      "metadata": {
        "id": "q2yD1hQuyYrj",
        "colab_type": "text"
      },
      "source": [
        "# Request to get the IMDB data"
      ]
    },
    {
      "cell_type": "code",
      "metadata": {
        "id": "KeeFYYwNLOgo",
        "colab_type": "code",
        "outputId": "515938c1-f505-463e-970e-aedd85ae5757",
        "colab": {
          "base_uri": "https://localhost:8080/",
          "height": 413
        }
      },
      "source": [
        "!wget --no-check-certificate http://mng.bz/0tIo\n",
        "\n"
      ],
      "execution_count": 2,
      "outputs": [
        {
          "output_type": "stream",
          "text": [
            "--2020-01-24 13:14:27--  http://mng.bz/0tIo\n",
            "Resolving mng.bz (mng.bz)... 35.166.24.88\n",
            "Connecting to mng.bz (mng.bz)|35.166.24.88|:80... connected.\n",
            "HTTP request sent, awaiting response... 301 Moved Permanently\n",
            "Location: https://mng.bz/0tIo [following]\n",
            "--2020-01-24 13:14:27--  https://mng.bz/0tIo\n",
            "Connecting to mng.bz (mng.bz)|35.166.24.88|:443... connected.\n",
            "WARNING: cannot verify mng.bz's certificate, issued by ‘CN=Go Daddy Secure Certificate Authority - G2,OU=http://certs.godaddy.com/repository/,O=GoDaddy.com\\\\, Inc.,L=Scottsdale,ST=Arizona,C=US’:\n",
            "  Unable to locally verify the issuer's authority.\n",
            "HTTP request sent, awaiting response... 301 \n",
            "Location: http://s3.amazonaws.com/text-datasets/aclImdb.zip [following]\n",
            "--2020-01-24 13:14:27--  http://s3.amazonaws.com/text-datasets/aclImdb.zip\n",
            "Resolving s3.amazonaws.com (s3.amazonaws.com)... 52.217.42.94\n",
            "Connecting to s3.amazonaws.com (s3.amazonaws.com)|52.217.42.94|:80... connected.\n",
            "HTTP request sent, awaiting response... 200 OK\n",
            "Length: 60711700 (58M) [application/zip]\n",
            "Saving to: ‘0tIo’\n",
            "\n",
            "0tIo                100%[===================>]  57.90M  35.5MB/s    in 1.6s    \n",
            "\n",
            "2020-01-24 13:14:29 (35.5 MB/s) - ‘0tIo’ saved [60711700/60711700]\n",
            "\n"
          ],
          "name": "stdout"
        }
      ]
    },
    {
      "cell_type": "code",
      "metadata": {
        "id": "thGWbdrNLT8b",
        "colab_type": "code",
        "colab": {}
      },
      "source": [
        "!unzip -q 0tIo"
      ],
      "execution_count": 0,
      "outputs": []
    },
    {
      "cell_type": "markdown",
      "metadata": {
        "id": "K701fgeWzB5R",
        "colab_type": "text"
      },
      "source": [
        "# Read the IMDB Data and append labels "
      ]
    },
    {
      "cell_type": "code",
      "metadata": {
        "id": "GQQRfVtxLnS2",
        "colab_type": "code",
        "colab": {}
      },
      "source": [
        "imdb_dir = '/content/aclImdb'\n",
        "train_dir = os.path.join(imdb_dir, 'train')\n",
        "\n",
        "labels = []\n",
        "texts = []\n",
        "\n",
        "for label_type in ['neg', 'pos']:\n",
        "  dir_name = os.path.join(train_dir, label_type)\n",
        "  for fname in os.listdir(dir_name):\n",
        "    #print(fname)\n",
        "    if fname[-4:] == '.txt':\n",
        "      #print('opening file', fname)\n",
        "      f = open(os.path.join(dir_name, fname))\n",
        "      texts.append(f.read())\n",
        "      f.close()\n",
        "      if label_type == 'neg':\n",
        "        labels.append(0)\n",
        "      else:\n",
        "        labels.append(1)"
      ],
      "execution_count": 0,
      "outputs": []
    },
    {
      "cell_type": "code",
      "metadata": {
        "id": "7orZNf4r5cz6",
        "colab_type": "code",
        "outputId": "31067e0f-c240-4268-83da-687edbb9df5b",
        "colab": {
          "base_uri": "https://localhost:8080/",
          "height": 35
        }
      },
      "source": [
        "print(len(texts))"
      ],
      "execution_count": 5,
      "outputs": [
        {
          "output_type": "stream",
          "text": [
            "25000\n"
          ],
          "name": "stdout"
        }
      ]
    },
    {
      "cell_type": "code",
      "metadata": {
        "id": "MMrtToDz5fzU",
        "colab_type": "code",
        "outputId": "24f9640a-dfac-4de3-8b2d-eab8e0ff08a8",
        "colab": {
          "base_uri": "https://localhost:8080/",
          "height": 71
        }
      },
      "source": [
        "# Define the maximum length of each record \n",
        "maxlen = 100                  \n",
        "# Define the number of samples to be taken for training\n",
        "training_samples = 8000 \n",
        "# Define number of validation samples. In this we will see that even less number of training samples than validation data also perform not very bad      \n",
        "validation_samples = 10000\n",
        "# Creates a tokenizer, configured to only take into account the 10,000 most common words\n",
        "max_words = 10000             \n",
        "\n",
        "# Create Tokenizer , Fit it to the Texts and create a sequence of texts from the tokenizer \n",
        "tokenizer = Tokenizer(num_words=max_words)\n",
        "tokenizer.fit_on_texts(texts)\n",
        "sequences = tokenizer.texts_to_sequences(texts)\n",
        "# Create a dictionary of the word and respective numeric index value \n",
        "word_index = tokenizer.word_index\n",
        "print('Found %s unique tokens.' % len(word_index))\n",
        "# Define the sequence with the numeric indexes \n",
        "data = pad_sequences(sequences, maxlen=maxlen)\n",
        "# variable for labels\n",
        "labels = np.asarray(labels)\n",
        "print('Shape of data tensor:', data.shape)\n",
        "print('Shape of label tensor:', labels.shape)\n",
        "\n",
        "# Shuffle the indices as the data are normally in group for each label \n",
        "indices = np.arange(data.shape[0])\n",
        "np.random.shuffle(indices)\n",
        "data = data[indices]\n",
        "labels = labels[indices]\n",
        "# Segreegate data for training and validation \n",
        "x_train = data[:training_samples]\n",
        "y_train = labels[:training_samples]\n",
        "\n",
        "x_val = data[training_samples: training_samples + validation_samples]\n",
        "y_val = labels[training_samples: training_samples + validation_samples]"
      ],
      "execution_count": 6,
      "outputs": [
        {
          "output_type": "stream",
          "text": [
            "Found 88582 unique tokens.\n",
            "Shape of data tensor: (25000, 100)\n",
            "Shape of label tensor: (25000,)\n"
          ],
          "name": "stdout"
        }
      ]
    },
    {
      "cell_type": "markdown",
      "metadata": {
        "id": "nLxlohYc3lA2",
        "colab_type": "text"
      },
      "source": [
        "# Downloading the Glove model  "
      ]
    },
    {
      "cell_type": "code",
      "metadata": {
        "id": "zBdzSAxl5xNV",
        "colab_type": "code",
        "outputId": "b72a52e3-958c-43f2-c641-15315b2a1d72",
        "colab": {
          "base_uri": "https://localhost:8080/",
          "height": 377
        }
      },
      "source": [
        "\n",
        "!wget http://nlp.stanford.edu/data/glove.6B.zip"
      ],
      "execution_count": 7,
      "outputs": [
        {
          "output_type": "stream",
          "text": [
            "--2020-01-24 13:14:46--  http://nlp.stanford.edu/data/glove.6B.zip\n",
            "Resolving nlp.stanford.edu (nlp.stanford.edu)... 171.64.67.140\n",
            "Connecting to nlp.stanford.edu (nlp.stanford.edu)|171.64.67.140|:80... connected.\n",
            "HTTP request sent, awaiting response... 302 Found\n",
            "Location: https://nlp.stanford.edu/data/glove.6B.zip [following]\n",
            "--2020-01-24 13:14:46--  https://nlp.stanford.edu/data/glove.6B.zip\n",
            "Connecting to nlp.stanford.edu (nlp.stanford.edu)|171.64.67.140|:443... connected.\n",
            "HTTP request sent, awaiting response... 301 Moved Permanently\n",
            "Location: http://downloads.cs.stanford.edu/nlp/data/glove.6B.zip [following]\n",
            "--2020-01-24 13:14:46--  http://downloads.cs.stanford.edu/nlp/data/glove.6B.zip\n",
            "Resolving downloads.cs.stanford.edu (downloads.cs.stanford.edu)... 171.64.64.22\n",
            "Connecting to downloads.cs.stanford.edu (downloads.cs.stanford.edu)|171.64.64.22|:80... connected.\n",
            "HTTP request sent, awaiting response... 200 OK\n",
            "Length: 862182613 (822M) [application/zip]\n",
            "Saving to: ‘glove.6B.zip’\n",
            "\n",
            "glove.6B.zip        100%[===================>] 822.24M  2.10MB/s    in 6m 26s  \n",
            "\n",
            "2020-01-24 13:21:13 (2.13 MB/s) - ‘glove.6B.zip’ saved [862182613/862182613]\n",
            "\n"
          ],
          "name": "stdout"
        }
      ]
    },
    {
      "cell_type": "code",
      "metadata": {
        "id": "xx35i3wG6Ch-",
        "colab_type": "code",
        "outputId": "1c210e94-82d5-4abe-fdcf-d769975f7b03",
        "colab": {
          "base_uri": "https://localhost:8080/",
          "height": 107
        }
      },
      "source": [
        "!unzip glove*.zip"
      ],
      "execution_count": 8,
      "outputs": [
        {
          "output_type": "stream",
          "text": [
            "Archive:  glove.6B.zip\n",
            "  inflating: glove.6B.50d.txt        \n",
            "  inflating: glove.6B.100d.txt       \n",
            "  inflating: glove.6B.200d.txt       \n",
            "  inflating: glove.6B.300d.txt       \n"
          ],
          "name": "stdout"
        }
      ]
    },
    {
      "cell_type": "markdown",
      "metadata": {
        "id": "CbXwoeDA337T",
        "colab_type": "text"
      },
      "source": [
        "We will use the glove model for 100 dimension . We can use heavier models but due to memory constraints we are using this one "
      ]
    },
    {
      "cell_type": "markdown",
      "metadata": {
        "id": "tit5ZmAa7kBE",
        "colab_type": "text"
      },
      "source": [
        "# Read the embedding file and load the data"
      ]
    },
    {
      "cell_type": "code",
      "metadata": {
        "id": "qkq4BSOh8i_q",
        "colab_type": "code",
        "outputId": "20394427-cf12-4956-f32c-657cf5372267",
        "colab": {
          "base_uri": "https://localhost:8080/",
          "height": 35
        }
      },
      "source": [
        "glove_dir = '/content'\n",
        "embeddings_index = {}\n",
        "\n",
        "embedding_dim = 100\n",
        "embedding_file_name = 'glove.6B.100d.txt'\n",
        "\n",
        "f = open(os.path.join(glove_dir, embedding_file_name ))\n",
        "for line in f:\n",
        "  values = line.split()\n",
        "  word = values[0]\n",
        "  coefs = np.asarray(values[1:], dtype='float32')\n",
        "  embeddings_index[word] = coefs\n",
        "f.close()\n",
        "\n",
        "print('Found %s word vectors.' %len(embeddings_index))"
      ],
      "execution_count": 9,
      "outputs": [
        {
          "output_type": "stream",
          "text": [
            "Found 400000 word vectors.\n"
          ],
          "name": "stdout"
        }
      ]
    },
    {
      "cell_type": "code",
      "metadata": {
        "id": "BFmGdRjb81P1",
        "colab_type": "code",
        "outputId": "ce8bd404-75f9-464b-8b3c-2b27a163891b",
        "colab": {
          "base_uri": "https://localhost:8080/",
          "height": 55
        }
      },
      "source": [
        "print(list(embeddings_index.keys())[0:100])\n"
      ],
      "execution_count": 10,
      "outputs": [
        {
          "output_type": "stream",
          "text": [
            "['the', ',', '.', 'of', 'to', 'and', 'in', 'a', '\"', \"'s\", 'for', '-', 'that', 'on', 'is', 'was', 'said', 'with', 'he', 'as', 'it', 'by', 'at', '(', ')', 'from', 'his', \"''\", '``', 'an', 'be', 'has', 'are', 'have', 'but', 'were', 'not', 'this', 'who', 'they', 'had', 'i', 'which', 'will', 'their', ':', 'or', 'its', 'one', 'after', 'new', 'been', 'also', 'we', 'would', 'two', 'more', \"'\", 'first', 'about', 'up', 'when', 'year', 'there', 'all', '--', 'out', 'she', 'other', 'people', \"n't\", 'her', 'percent', 'than', 'over', 'into', 'last', 'some', 'government', 'time', '$', 'you', 'years', 'if', 'no', 'world', 'can', 'three', 'do', ';', 'president', 'only', 'state', 'million', 'could', 'us', 'most', '_', 'against', 'u.s.']\n"
          ],
          "name": "stdout"
        }
      ]
    },
    {
      "cell_type": "markdown",
      "metadata": {
        "id": "-L_iL1EN7-4h",
        "colab_type": "text"
      },
      "source": [
        "# Steps\n",
        "1. Defining blank Embedding_matrix\n",
        "2. Updating Embedding matrix by reading sequentially using the Embedding Index "
      ]
    },
    {
      "cell_type": "code",
      "metadata": {
        "id": "9vc5kuDW8-9g",
        "colab_type": "code",
        "colab": {}
      },
      "source": [
        "embedding_matrix = np.zeros((max_words, embedding_dim))\n",
        "for word, i in word_index.items():\n",
        "    if i < max_words:\n",
        "        embedding_vector = embeddings_index.get(word)\n",
        "        if embedding_vector is not None:\n",
        "            embedding_matrix[i] = embedding_vector   # Words not found in the embedding index will be all zeros"
      ],
      "execution_count": 0,
      "outputs": []
    },
    {
      "cell_type": "code",
      "metadata": {
        "id": "k6qg35_D9HLr",
        "colab_type": "code",
        "outputId": "4f7581fb-c202-4b1d-fce6-199a5b9c61b1",
        "colab": {
          "base_uri": "https://localhost:8080/",
          "height": 305
        }
      },
      "source": [
        "from keras.models import Sequential\n",
        "from keras.layers import Embedding, Flatten, Dense\n",
        "\n",
        "model = Sequential()\n",
        "model.add(Embedding(max_words, embedding_dim, input_length=maxlen))\n",
        "model.add(Flatten())\n",
        "model.add(Dense(32, activation='relu'))\n",
        "model.add(Dense(1, activation='sigmoid'))\n",
        "model.summary()"
      ],
      "execution_count": 22,
      "outputs": [
        {
          "output_type": "stream",
          "text": [
            "Model: \"sequential_3\"\n",
            "_________________________________________________________________\n",
            "Layer (type)                 Output Shape              Param #   \n",
            "=================================================================\n",
            "embedding_3 (Embedding)      (None, 100, 100)          1000000   \n",
            "_________________________________________________________________\n",
            "flatten_3 (Flatten)          (None, 10000)             0         \n",
            "_________________________________________________________________\n",
            "dense_5 (Dense)              (None, 32)                320032    \n",
            "_________________________________________________________________\n",
            "dense_6 (Dense)              (None, 1)                 33        \n",
            "=================================================================\n",
            "Total params: 1,320,065\n",
            "Trainable params: 1,320,065\n",
            "Non-trainable params: 0\n",
            "_________________________________________________________________\n"
          ],
          "name": "stdout"
        }
      ]
    },
    {
      "cell_type": "markdown",
      "metadata": {
        "id": "6QPbiuI59iuf",
        "colab_type": "text"
      },
      "source": [
        "1. Set the weights to the Embedding matrix \n",
        "2. Freeze the Embedding layer as we are using a pretrained model\n"
      ]
    },
    {
      "cell_type": "code",
      "metadata": {
        "id": "fSUOohBQ9J3r",
        "colab_type": "code",
        "colab": {}
      },
      "source": [
        "\n",
        "model.layers[0].set_weights([embedding_matrix])\n",
        "model.layers[0].trainable = False"
      ],
      "execution_count": 0,
      "outputs": []
    },
    {
      "cell_type": "markdown",
      "metadata": {
        "id": "5jzwr679CSBl",
        "colab_type": "text"
      },
      "source": [
        "# Compile and train the model"
      ]
    },
    {
      "cell_type": "code",
      "metadata": {
        "id": "kLdONR1n9MgG",
        "colab_type": "code",
        "outputId": "6d74feaa-571e-4490-d890-56c3421d6768",
        "colab": {
          "base_uri": "https://localhost:8080/",
          "height": 1000
        }
      },
      "source": [
        "model.compile(optimizer='rmsprop',\n",
        "              loss='binary_crossentropy',\n",
        "              metrics=['acc'])\n",
        "\n",
        "history = model.fit(x_train, y_train,\n",
        "                    epochs=100,\n",
        "                    batch_size=32,\n",
        "                    validation_data=(x_val, y_val)\n",
        "                    )\n",
        "\n",
        "model.save_weights('pre_trained_glove_model.h5')"
      ],
      "execution_count": 24,
      "outputs": [
        {
          "output_type": "stream",
          "text": [
            "Train on 8000 samples, validate on 10000 samples\n",
            "Epoch 1/100\n",
            "8000/8000 [==============================] - 1s 187us/step - loss: 0.6782 - acc: 0.6066 - val_loss: 0.6621 - val_acc: 0.5965\n",
            "Epoch 2/100\n",
            "8000/8000 [==============================] - 1s 156us/step - loss: 0.5560 - acc: 0.7191 - val_loss: 0.6299 - val_acc: 0.6649\n",
            "Epoch 3/100\n",
            "8000/8000 [==============================] - 1s 157us/step - loss: 0.4720 - acc: 0.7750 - val_loss: 0.5783 - val_acc: 0.7067\n",
            "Epoch 4/100\n",
            "8000/8000 [==============================] - 1s 153us/step - loss: 0.4060 - acc: 0.8226 - val_loss: 0.6038 - val_acc: 0.7008\n",
            "Epoch 5/100\n",
            "8000/8000 [==============================] - 1s 159us/step - loss: 0.3507 - acc: 0.8496 - val_loss: 0.7121 - val_acc: 0.6860\n",
            "Epoch 6/100\n",
            "8000/8000 [==============================] - 1s 152us/step - loss: 0.2955 - acc: 0.8735 - val_loss: 0.6842 - val_acc: 0.7036\n",
            "Epoch 7/100\n",
            "8000/8000 [==============================] - 1s 166us/step - loss: 0.2442 - acc: 0.9030 - val_loss: 0.7280 - val_acc: 0.7013\n",
            "Epoch 8/100\n",
            "8000/8000 [==============================] - 1s 155us/step - loss: 0.1957 - acc: 0.9233 - val_loss: 0.8174 - val_acc: 0.6881\n",
            "Epoch 9/100\n",
            "8000/8000 [==============================] - 1s 157us/step - loss: 0.1528 - acc: 0.9461 - val_loss: 1.2148 - val_acc: 0.6574\n",
            "Epoch 10/100\n",
            "8000/8000 [==============================] - 1s 155us/step - loss: 0.1152 - acc: 0.9595 - val_loss: 0.9823 - val_acc: 0.6891\n",
            "Epoch 11/100\n",
            "8000/8000 [==============================] - 1s 153us/step - loss: 0.0910 - acc: 0.9681 - val_loss: 1.0299 - val_acc: 0.6858\n",
            "Epoch 12/100\n",
            "8000/8000 [==============================] - 1s 154us/step - loss: 0.0722 - acc: 0.9779 - val_loss: 1.1380 - val_acc: 0.6937\n",
            "Epoch 13/100\n",
            "8000/8000 [==============================] - 1s 155us/step - loss: 0.0597 - acc: 0.9824 - val_loss: 1.1983 - val_acc: 0.6895\n",
            "Epoch 14/100\n",
            "8000/8000 [==============================] - 1s 155us/step - loss: 0.0374 - acc: 0.9872 - val_loss: 1.8532 - val_acc: 0.6621\n",
            "Epoch 15/100\n",
            "8000/8000 [==============================] - 1s 160us/step - loss: 0.0404 - acc: 0.9878 - val_loss: 1.3781 - val_acc: 0.6882\n",
            "Epoch 16/100\n",
            "8000/8000 [==============================] - 1s 152us/step - loss: 0.0370 - acc: 0.9886 - val_loss: 1.4030 - val_acc: 0.6895\n",
            "Epoch 17/100\n",
            "8000/8000 [==============================] - 1s 150us/step - loss: 0.0368 - acc: 0.9906 - val_loss: 1.5757 - val_acc: 0.6763\n",
            "Epoch 18/100\n",
            "8000/8000 [==============================] - 1s 155us/step - loss: 0.0213 - acc: 0.9924 - val_loss: 1.5578 - val_acc: 0.6871\n",
            "Epoch 19/100\n",
            "8000/8000 [==============================] - 1s 154us/step - loss: 0.0248 - acc: 0.9916 - val_loss: 1.6186 - val_acc: 0.6910\n",
            "Epoch 20/100\n",
            "8000/8000 [==============================] - 1s 153us/step - loss: 0.0215 - acc: 0.9938 - val_loss: 1.6730 - val_acc: 0.6842\n",
            "Epoch 21/100\n",
            "8000/8000 [==============================] - 1s 155us/step - loss: 0.0274 - acc: 0.9925 - val_loss: 1.7753 - val_acc: 0.6852\n",
            "Epoch 22/100\n",
            "8000/8000 [==============================] - 1s 157us/step - loss: 0.0287 - acc: 0.9940 - val_loss: 1.8132 - val_acc: 0.6842\n",
            "Epoch 23/100\n",
            "8000/8000 [==============================] - 1s 152us/step - loss: 0.0179 - acc: 0.9956 - val_loss: 1.8194 - val_acc: 0.6885\n",
            "Epoch 24/100\n",
            "8000/8000 [==============================] - 1s 152us/step - loss: 0.0225 - acc: 0.9946 - val_loss: 1.8816 - val_acc: 0.6803\n",
            "Epoch 25/100\n",
            "8000/8000 [==============================] - 1s 152us/step - loss: 0.0097 - acc: 0.9969 - val_loss: 1.9525 - val_acc: 0.6900\n",
            "Epoch 26/100\n",
            "8000/8000 [==============================] - 1s 158us/step - loss: 0.0122 - acc: 0.9965 - val_loss: 1.9398 - val_acc: 0.6836\n",
            "Epoch 27/100\n",
            "8000/8000 [==============================] - 1s 160us/step - loss: 0.0117 - acc: 0.9957 - val_loss: 2.0097 - val_acc: 0.6845\n",
            "Epoch 28/100\n",
            "8000/8000 [==============================] - 1s 153us/step - loss: 0.0165 - acc: 0.9954 - val_loss: 1.9960 - val_acc: 0.6843\n",
            "Epoch 29/100\n",
            "8000/8000 [==============================] - 1s 165us/step - loss: 0.0096 - acc: 0.9974 - val_loss: 2.0222 - val_acc: 0.6836\n",
            "Epoch 30/100\n",
            "8000/8000 [==============================] - 1s 156us/step - loss: 0.0109 - acc: 0.9969 - val_loss: 2.0737 - val_acc: 0.6864\n",
            "Epoch 31/100\n",
            "8000/8000 [==============================] - 1s 154us/step - loss: 0.0088 - acc: 0.9973 - val_loss: 2.1422 - val_acc: 0.6834\n",
            "Epoch 32/100\n",
            "8000/8000 [==============================] - 1s 154us/step - loss: 0.0078 - acc: 0.9976 - val_loss: 2.1816 - val_acc: 0.6795\n",
            "Epoch 33/100\n",
            "8000/8000 [==============================] - 1s 157us/step - loss: 0.0080 - acc: 0.9984 - val_loss: 2.1742 - val_acc: 0.6777\n",
            "Epoch 34/100\n",
            "8000/8000 [==============================] - 1s 161us/step - loss: 0.0098 - acc: 0.9978 - val_loss: 2.3084 - val_acc: 0.6895\n",
            "Epoch 35/100\n",
            "8000/8000 [==============================] - 1s 153us/step - loss: 0.0114 - acc: 0.9962 - val_loss: 2.2246 - val_acc: 0.6842\n",
            "Epoch 36/100\n",
            "8000/8000 [==============================] - 1s 158us/step - loss: 0.0087 - acc: 0.9976 - val_loss: 2.2767 - val_acc: 0.6868\n",
            "Epoch 37/100\n",
            "8000/8000 [==============================] - 1s 160us/step - loss: 0.0056 - acc: 0.9978 - val_loss: 2.3518 - val_acc: 0.6884\n",
            "Epoch 38/100\n",
            "8000/8000 [==============================] - 1s 152us/step - loss: 0.0042 - acc: 0.9986 - val_loss: 2.3488 - val_acc: 0.6878\n",
            "Epoch 39/100\n",
            "8000/8000 [==============================] - 1s 154us/step - loss: 0.0072 - acc: 0.9984 - val_loss: 2.4096 - val_acc: 0.6817\n",
            "Epoch 40/100\n",
            "8000/8000 [==============================] - 1s 154us/step - loss: 0.0133 - acc: 0.9959 - val_loss: 2.4426 - val_acc: 0.6880\n",
            "Epoch 41/100\n",
            "8000/8000 [==============================] - 1s 154us/step - loss: 0.0056 - acc: 0.9986 - val_loss: 2.4086 - val_acc: 0.6840\n",
            "Epoch 42/100\n",
            "8000/8000 [==============================] - 1s 159us/step - loss: 0.0054 - acc: 0.9981 - val_loss: 2.4547 - val_acc: 0.6837\n",
            "Epoch 43/100\n",
            "8000/8000 [==============================] - 1s 152us/step - loss: 0.0067 - acc: 0.9983 - val_loss: 2.4645 - val_acc: 0.6791\n",
            "Epoch 44/100\n",
            "8000/8000 [==============================] - 1s 158us/step - loss: 0.0063 - acc: 0.9980 - val_loss: 2.4591 - val_acc: 0.6841\n",
            "Epoch 45/100\n",
            "8000/8000 [==============================] - 1s 154us/step - loss: 0.0066 - acc: 0.9981 - val_loss: 2.4566 - val_acc: 0.6880\n",
            "Epoch 46/100\n",
            "8000/8000 [==============================] - 1s 160us/step - loss: 0.0041 - acc: 0.9989 - val_loss: 2.5553 - val_acc: 0.6862\n",
            "Epoch 47/100\n",
            "8000/8000 [==============================] - 1s 152us/step - loss: 0.0020 - acc: 0.9992 - val_loss: 2.5481 - val_acc: 0.6852\n",
            "Epoch 48/100\n",
            "8000/8000 [==============================] - 1s 157us/step - loss: 0.0027 - acc: 0.9994 - val_loss: 2.5598 - val_acc: 0.6882\n",
            "Epoch 49/100\n",
            "8000/8000 [==============================] - 1s 156us/step - loss: 0.0050 - acc: 0.9983 - val_loss: 2.5881 - val_acc: 0.6826\n",
            "Epoch 50/100\n",
            "8000/8000 [==============================] - 1s 155us/step - loss: 0.0024 - acc: 0.9991 - val_loss: 2.5988 - val_acc: 0.6822\n",
            "Epoch 51/100\n",
            "8000/8000 [==============================] - 1s 153us/step - loss: 0.0024 - acc: 0.9990 - val_loss: 2.6192 - val_acc: 0.6844\n",
            "Epoch 52/100\n",
            "8000/8000 [==============================] - 1s 156us/step - loss: 6.9876e-04 - acc: 0.9996 - val_loss: 2.6726 - val_acc: 0.6831\n",
            "Epoch 53/100\n",
            "8000/8000 [==============================] - 1s 156us/step - loss: 0.0054 - acc: 0.9985 - val_loss: 2.7074 - val_acc: 0.6751\n",
            "Epoch 54/100\n",
            "8000/8000 [==============================] - 1s 157us/step - loss: 6.6662e-04 - acc: 0.9998 - val_loss: 2.7150 - val_acc: 0.6858\n",
            "Epoch 55/100\n",
            "8000/8000 [==============================] - 1s 157us/step - loss: 0.0026 - acc: 0.9992 - val_loss: 2.7488 - val_acc: 0.6856\n",
            "Epoch 56/100\n",
            "8000/8000 [==============================] - 1s 160us/step - loss: 0.0048 - acc: 0.9990 - val_loss: 2.7352 - val_acc: 0.6849\n",
            "Epoch 57/100\n",
            "8000/8000 [==============================] - 1s 164us/step - loss: 0.0055 - acc: 0.9980 - val_loss: 2.8297 - val_acc: 0.6800\n",
            "Epoch 58/100\n",
            "8000/8000 [==============================] - 1s 157us/step - loss: 0.0020 - acc: 0.9992 - val_loss: 2.8109 - val_acc: 0.6862\n",
            "Epoch 59/100\n",
            "8000/8000 [==============================] - 1s 155us/step - loss: 0.0027 - acc: 0.9994 - val_loss: 2.8477 - val_acc: 0.6806\n",
            "Epoch 60/100\n",
            "8000/8000 [==============================] - 1s 157us/step - loss: 6.5620e-04 - acc: 0.9996 - val_loss: 2.8618 - val_acc: 0.6806\n",
            "Epoch 61/100\n",
            "8000/8000 [==============================] - 1s 158us/step - loss: 0.0012 - acc: 0.9994 - val_loss: 2.7807 - val_acc: 0.6807\n",
            "Epoch 62/100\n",
            "8000/8000 [==============================] - 1s 153us/step - loss: 0.0035 - acc: 0.9989 - val_loss: 2.8203 - val_acc: 0.6833\n",
            "Epoch 63/100\n",
            "8000/8000 [==============================] - 1s 156us/step - loss: 0.0023 - acc: 0.9992 - val_loss: 2.8666 - val_acc: 0.6842\n",
            "Epoch 64/100\n",
            "8000/8000 [==============================] - 1s 157us/step - loss: 0.0012 - acc: 0.9998 - val_loss: 3.4507 - val_acc: 0.6468\n",
            "Epoch 65/100\n",
            "8000/8000 [==============================] - 1s 155us/step - loss: 0.0016 - acc: 0.9994 - val_loss: 2.9416 - val_acc: 0.6795\n",
            "Epoch 66/100\n",
            "8000/8000 [==============================] - 1s 157us/step - loss: 0.0019 - acc: 0.9995 - val_loss: 2.9293 - val_acc: 0.6788\n",
            "Epoch 67/100\n",
            "8000/8000 [==============================] - 1s 151us/step - loss: 0.0013 - acc: 0.9995 - val_loss: 4.3159 - val_acc: 0.6098\n",
            "Epoch 68/100\n",
            "8000/8000 [==============================] - 1s 157us/step - loss: 0.0082 - acc: 0.9984 - val_loss: 3.0173 - val_acc: 0.6812\n",
            "Epoch 69/100\n",
            "8000/8000 [==============================] - 1s 153us/step - loss: 0.0044 - acc: 0.9991 - val_loss: 3.0145 - val_acc: 0.6811\n",
            "Epoch 70/100\n",
            "8000/8000 [==============================] - 1s 161us/step - loss: 6.5884e-04 - acc: 0.9999 - val_loss: 2.8985 - val_acc: 0.6812\n",
            "Epoch 71/100\n",
            "8000/8000 [==============================] - 1s 150us/step - loss: 0.0037 - acc: 0.9992 - val_loss: 3.1288 - val_acc: 0.6679\n",
            "Epoch 72/100\n",
            "8000/8000 [==============================] - 1s 160us/step - loss: 0.0012 - acc: 0.9998 - val_loss: 3.0189 - val_acc: 0.6759\n",
            "Epoch 73/100\n",
            "8000/8000 [==============================] - 1s 155us/step - loss: 0.0022 - acc: 0.9998 - val_loss: 2.9865 - val_acc: 0.6784\n",
            "Epoch 74/100\n",
            "8000/8000 [==============================] - 1s 154us/step - loss: 0.0018 - acc: 0.9994 - val_loss: 3.0234 - val_acc: 0.6792\n",
            "Epoch 75/100\n",
            "8000/8000 [==============================] - 1s 160us/step - loss: 9.1255e-04 - acc: 0.9998 - val_loss: 3.1468 - val_acc: 0.6780\n",
            "Epoch 76/100\n",
            "8000/8000 [==============================] - 1s 157us/step - loss: 0.0021 - acc: 0.9995 - val_loss: 3.0204 - val_acc: 0.6822\n",
            "Epoch 77/100\n",
            "8000/8000 [==============================] - 1s 153us/step - loss: 0.0014 - acc: 0.9996 - val_loss: 3.1090 - val_acc: 0.6759\n",
            "Epoch 78/100\n",
            "8000/8000 [==============================] - 1s 156us/step - loss: 0.0016 - acc: 0.9992 - val_loss: 3.0249 - val_acc: 0.6806\n",
            "Epoch 79/100\n",
            "8000/8000 [==============================] - 1s 159us/step - loss: 0.0017 - acc: 0.9995 - val_loss: 3.1276 - val_acc: 0.6800\n",
            "Epoch 80/100\n",
            "8000/8000 [==============================] - 1s 157us/step - loss: 0.0017 - acc: 0.9995 - val_loss: 3.0135 - val_acc: 0.6793\n",
            "Epoch 81/100\n",
            "8000/8000 [==============================] - 1s 160us/step - loss: 0.0020 - acc: 0.9995 - val_loss: 3.1739 - val_acc: 0.6811\n",
            "Epoch 82/100\n",
            "8000/8000 [==============================] - 1s 162us/step - loss: 9.4807e-04 - acc: 0.9998 - val_loss: 3.0754 - val_acc: 0.6867\n",
            "Epoch 83/100\n",
            "8000/8000 [==============================] - 1s 154us/step - loss: 0.0014 - acc: 0.9998 - val_loss: 3.1146 - val_acc: 0.6864\n",
            "Epoch 84/100\n",
            "8000/8000 [==============================] - 1s 155us/step - loss: 9.8148e-05 - acc: 1.0000 - val_loss: 3.0046 - val_acc: 0.6758\n",
            "Epoch 85/100\n",
            "8000/8000 [==============================] - 1s 156us/step - loss: 0.0020 - acc: 0.9994 - val_loss: 3.1399 - val_acc: 0.6797\n",
            "Epoch 86/100\n",
            "8000/8000 [==============================] - 1s 151us/step - loss: 6.0311e-04 - acc: 0.9999 - val_loss: 3.2225 - val_acc: 0.6768\n",
            "Epoch 87/100\n",
            "8000/8000 [==============================] - 1s 159us/step - loss: 0.0013 - acc: 0.9996 - val_loss: 3.1322 - val_acc: 0.6829\n",
            "Epoch 88/100\n",
            "8000/8000 [==============================] - 1s 159us/step - loss: 5.2777e-05 - acc: 1.0000 - val_loss: 3.1485 - val_acc: 0.6862\n",
            "Epoch 89/100\n",
            "8000/8000 [==============================] - 1s 158us/step - loss: 0.0011 - acc: 0.9999 - val_loss: 4.1193 - val_acc: 0.6304\n",
            "Epoch 90/100\n",
            "8000/8000 [==============================] - 1s 159us/step - loss: 0.0033 - acc: 0.9990 - val_loss: 3.2066 - val_acc: 0.6845\n",
            "Epoch 91/100\n",
            "8000/8000 [==============================] - 1s 156us/step - loss: 8.4732e-05 - acc: 1.0000 - val_loss: 3.1762 - val_acc: 0.6823\n",
            "Epoch 92/100\n",
            "8000/8000 [==============================] - 1s 157us/step - loss: 2.2304e-04 - acc: 1.0000 - val_loss: 3.1678 - val_acc: 0.6856\n",
            "Epoch 93/100\n",
            "8000/8000 [==============================] - 1s 159us/step - loss: 5.9910e-05 - acc: 1.0000 - val_loss: 3.1952 - val_acc: 0.6773\n",
            "Epoch 94/100\n",
            "8000/8000 [==============================] - 1s 155us/step - loss: 5.2424e-04 - acc: 0.9999 - val_loss: 3.2017 - val_acc: 0.6871\n",
            "Epoch 95/100\n",
            "8000/8000 [==============================] - 1s 153us/step - loss: 0.0012 - acc: 0.9994 - val_loss: 3.1783 - val_acc: 0.6837\n",
            "Epoch 96/100\n",
            "8000/8000 [==============================] - 1s 152us/step - loss: 1.6006e-04 - acc: 1.0000 - val_loss: 3.1987 - val_acc: 0.6838\n",
            "Epoch 97/100\n",
            "8000/8000 [==============================] - 1s 155us/step - loss: 0.0013 - acc: 0.9996 - val_loss: 3.2676 - val_acc: 0.6736\n",
            "Epoch 98/100\n",
            "8000/8000 [==============================] - 1s 161us/step - loss: 3.1919e-06 - acc: 1.0000 - val_loss: 3.2554 - val_acc: 0.6881\n",
            "Epoch 99/100\n",
            "8000/8000 [==============================] - 1s 155us/step - loss: 5.1035e-05 - acc: 1.0000 - val_loss: 3.3004 - val_acc: 0.6887\n",
            "Epoch 100/100\n",
            "8000/8000 [==============================] - 1s 153us/step - loss: 6.9970e-05 - acc: 1.0000 - val_loss: 3.3147 - val_acc: 0.6798\n"
          ],
          "name": "stdout"
        }
      ]
    },
    {
      "cell_type": "markdown",
      "metadata": {
        "id": "7uj9gmyKCanv",
        "colab_type": "text"
      },
      "source": [
        "# Plot the Output to see the performance"
      ]
    },
    {
      "cell_type": "code",
      "metadata": {
        "id": "5b93br3b9TMp",
        "colab_type": "code",
        "outputId": "2a2c78af-fcde-4b98-fe03-b6a955657022",
        "colab": {
          "base_uri": "https://localhost:8080/",
          "height": 545
        }
      },
      "source": [
        "import matplotlib.pyplot as plt\n",
        "acc = history.history['acc']\n",
        "val_acc = history.history['val_acc']\n",
        "loss = history.history['loss']\n",
        "val_loss = history.history['val_loss']\n",
        "epochs = range(1, len(acc) + 1)\n",
        "plt.plot(epochs, acc, 'bo', label='Training acc')\n",
        "plt.plot(epochs, val_acc, 'b', label='Validation acc')\n",
        "plt.title('Training and validation accuracy')\n",
        "plt.legend()\n",
        "plt.figure()\n",
        "plt.plot(epochs, loss, 'bo', label='Training loss')\n",
        "plt.plot(epochs, val_loss, 'b', label='Validation loss')\n",
        "plt.title('Training and validation loss')\n",
        "plt.legend()\n",
        "plt.show()"
      ],
      "execution_count": 25,
      "outputs": [
        {
          "output_type": "display_data",
          "data": {
            "image/png": "[encoded data removed]",
            "text/plain": [
              "<Figure size 432x288 with 1 Axes>"
            ]
          },
          "metadata": {
            "tags": []
          }
        },
        {
          "output_type": "display_data",
          "data": {
            "image/png": "[encoded data removed]",
            "text/plain": [
              "<Figure size 432x288 with 1 Axes>"
            ]
          },
          "metadata": {
            "tags": []
          }
        }
      ]
    },
    {
      "cell_type": "code",
      "metadata": {
        "id": "alpYbOhA9X7o",
        "colab_type": "code",
        "colab": {}
      },
      "source": [
        ""
      ],
      "execution_count": 0,
      "outputs": []
    }
  ]
}