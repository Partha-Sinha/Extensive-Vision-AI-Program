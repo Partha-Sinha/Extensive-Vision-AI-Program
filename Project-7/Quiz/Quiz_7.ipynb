{
  "nbformat": 4,
  "nbformat_minor": 0,
  "metadata": {
    "colab": {
      "name": "Quiz_7.ipynb",
      "version": "0.3.2",
      "provenance": [],
      "collapsed_sections": []
    },
    "kernelspec": {
      "name": "python3",
      "display_name": "Python 3"
    },
    "accelerator": "GPU"
  },
  "cells": [
    {
      "cell_type": "markdown",
      "metadata": {
        "id": "_CuHpEkIRoUV",
        "colab_type": "text"
      },
      "source": [
        "# Objective\n",
        "\n",
        "You are required to change the ## MAIN BLOCK in such a way that it represents this architecture:\n",
        "1. x1 = Input\n",
        "2. x2 = Conv(x1)\n",
        "3. x3 = Conv(x1 + x2)\n",
        "4. x4 = MaxPooling(x1 + x2 + x3)\n",
        "5. x5 = Conv(x4)\n",
        "6. x6 = Conv(x4 + x5)\n",
        "7. x7 = Conv(x4 + x5 + x6)\n",
        "8. x8 = MaxPooling(x5 + x6 + x7)\n",
        "9. x9 = Conv(x8)\n",
        "10. x10 = Conv (x8 + x9)\n",
        "11. x11 = Conv (x8 + x9 + x10)\n",
        "12. BIG KERNEL Operation (use a large kernel size (10 units), if required at this step to be able to add softmax in the next layer)\n",
        "13. SoftMax"
      ]
    },
    {
      "cell_type": "markdown",
      "metadata": {
        "id": "aNyZv-Ec52ot",
        "colab_type": "text"
      },
      "source": [
        "# **Import Libraries and modules**"
      ]
    },
    {
      "cell_type": "code",
      "metadata": {
        "id": "3m3w1Cw49Zkt",
        "colab_type": "code",
        "outputId": "5005a592-51e7-425d-a332-97b40ad2610e",
        "colab": {
          "base_uri": "https://localhost:8080/",
          "height": 34
        }
      },
      "source": [
        "# https://keras.io/\n",
        "!pip install -q keras\n",
        "import keras\n",
        "import datetime\n",
        "print(datetime.datetime.now())"
      ],
      "execution_count": 0,
      "outputs": [
        {
          "output_type": "stream",
          "text": [
            "2019-06-14 10:40:54.673193\n"
          ],
          "name": "stdout"
        }
      ]
    },
    {
      "cell_type": "code",
      "metadata": {
        "id": "Eso6UHE080D4",
        "colab_type": "code",
        "outputId": "dd5644ed-8484-4399-c91b-90c862dd2153",
        "colab": {
          "base_uri": "https://localhost:8080/",
          "height": 34
        }
      },
      "source": [
        "import numpy as np\n",
        "from keras.models import Sequential\n",
        "from keras.layers import Dense, Dropout, Activation, Flatten, Add\n",
        "from keras.layers import Conv2D, MaxPooling2D\n",
        "from keras.utils import np_utils\n",
        "\n",
        "from keras.datasets import mnist\n",
        "print(datetime.datetime.now())"
      ],
      "execution_count": 0,
      "outputs": [
        {
          "output_type": "stream",
          "text": [
            "2019-06-14 10:41:34.395951\n"
          ],
          "name": "stdout"
        }
      ]
    },
    {
      "cell_type": "markdown",
      "metadata": {
        "id": "zByEi95J86RD",
        "colab_type": "text"
      },
      "source": [
        "### Load pre-shuffled MNIST data into train and test sets"
      ]
    },
    {
      "cell_type": "code",
      "metadata": {
        "id": "7eRM0QWN83PV",
        "colab_type": "code",
        "outputId": "084f816f-1d3c-4937-cdae-cb5b783e78f7",
        "colab": {
          "base_uri": "https://localhost:8080/",
          "height": 68
        }
      },
      "source": [
        "(X_train, y_train), (X_test, y_test) = mnist.load_data()\n",
        "print(datetime.datetime.now())"
      ],
      "execution_count": 0,
      "outputs": [
        {
          "output_type": "stream",
          "text": [
            "Downloading data from https://s3.amazonaws.com/img-datasets/mnist.npz\n",
            "11493376/11490434 [==============================] - 0s 0us/step\n",
            "2019-06-14 10:41:38.506839\n"
          ],
          "name": "stdout"
        }
      ]
    },
    {
      "cell_type": "code",
      "metadata": {
        "id": "4a4Be72j8-ZC",
        "colab_type": "code",
        "outputId": "b83b1081-a630-4f7c-9153-fb748ecda9cd",
        "colab": {
          "base_uri": "https://localhost:8080/",
          "height": 303
        }
      },
      "source": [
        "print (X_train.shape)\n",
        "from matplotlib import pyplot as plt\n",
        "%matplotlib inline\n",
        "plt.imshow(X_train[0])\n",
        "print(datetime.datetime.now())"
      ],
      "execution_count": 0,
      "outputs": [
        {
          "output_type": "stream",
          "text": [
            "(60000, 28, 28)\n",
            "2019-06-14 10:41:40.822930\n"
          ],
          "name": "stdout"
        },
        {
          "output_type": "display_data",
          "data": {
            "image/png": "[encoded data removed]",
            "text/plain": [
              "<Figure size 432x288 with 1 Axes>"
            ]
          },
          "metadata": {
            "tags": []
          }
        }
      ]
    },
    {
      "cell_type": "code",
      "metadata": {
        "id": "dkmprriw9AnZ",
        "colab_type": "code",
        "outputId": "8d849f4c-5190-4c00-a0c9-e122940fa9ba",
        "colab": {
          "base_uri": "https://localhost:8080/",
          "height": 34
        }
      },
      "source": [
        "X_train = X_train.reshape(X_train.shape[0], 28, 28,1)\n",
        "X_test = X_test.reshape(X_test.shape[0], 28, 28,1)\n",
        "print(datetime.datetime.now())"
      ],
      "execution_count": 0,
      "outputs": [
        {
          "output_type": "stream",
          "text": [
            "2019-06-14 10:41:43.882397\n"
          ],
          "name": "stdout"
        }
      ]
    },
    {
      "cell_type": "code",
      "metadata": {
        "id": "X2m4YS4E9CRh",
        "colab_type": "code",
        "outputId": "8027bd6b-635a-40d7-e94d-8ca182ae0ece",
        "colab": {
          "base_uri": "https://localhost:8080/",
          "height": 34
        }
      },
      "source": [
        "X_train = X_train.astype('float32')\n",
        "X_test = X_test.astype('float32')\n",
        "X_train /= 255\n",
        "X_test /= 255\n",
        "print(datetime.datetime.now())"
      ],
      "execution_count": 0,
      "outputs": [
        {
          "output_type": "stream",
          "text": [
            "2019-06-14 10:41:46.773523\n"
          ],
          "name": "stdout"
        }
      ]
    },
    {
      "cell_type": "code",
      "metadata": {
        "id": "0Mn0vAYD9DvB",
        "colab_type": "code",
        "outputId": "747b5019-bf4e-46ff-8ff8-1e310377b645",
        "colab": {
          "base_uri": "https://localhost:8080/",
          "height": 34
        }
      },
      "source": [
        "y_train[:10]\n",
        "print(datetime.datetime.now())"
      ],
      "execution_count": 0,
      "outputs": [
        {
          "output_type": "stream",
          "text": [
            "2019-06-14 10:41:51.488447\n"
          ],
          "name": "stdout"
        }
      ]
    },
    {
      "cell_type": "code",
      "metadata": {
        "id": "ZG8JiXR39FHC",
        "colab_type": "code",
        "outputId": "8fd9e8cd-80eb-4471-b38a-91fb4c46df17",
        "colab": {
          "base_uri": "https://localhost:8080/",
          "height": 34
        }
      },
      "source": [
        "# Convert 1-dimensional class arrays to 10-dimensional class matrices\n",
        "Y_train = np_utils.to_categorical(y_train, 10)\n",
        "Y_test = np_utils.to_categorical(y_test, 10)\n",
        "print(datetime.datetime.now())"
      ],
      "execution_count": 0,
      "outputs": [
        {
          "output_type": "stream",
          "text": [
            "2019-06-14 10:41:58.818745\n"
          ],
          "name": "stdout"
        }
      ]
    },
    {
      "cell_type": "code",
      "metadata": {
        "id": "fYlFRvKS9HMB",
        "colab_type": "code",
        "outputId": "14648737-4c26-43eb-a69e-b65d2b8fcfd5",
        "colab": {
          "base_uri": "https://localhost:8080/",
          "height": 34
        }
      },
      "source": [
        "Y_train[:10]\n",
        "print(datetime.datetime.now())"
      ],
      "execution_count": 0,
      "outputs": [
        {
          "output_type": "stream",
          "text": [
            "2019-06-14 10:42:00.923957\n"
          ],
          "name": "stdout"
        }
      ]
    },
    {
      "cell_type": "code",
      "metadata": {
        "id": "osKqT73Q9JJB",
        "colab_type": "code",
        "outputId": "187dbc30-e9d4-4f24-ffae-3a23ea1ac644",
        "colab": {
          "base_uri": "https://localhost:8080/",
          "height": 88
        }
      },
      "source": [
        "## MAIN BLOCK\n",
        "from keras.layers import Activation\n",
        "from keras.models import Model\n",
        "from keras.layers import Input\n",
        "from keras.layers.merge import concatenate\n",
        "\n",
        "\n",
        "#x1 = Input\n",
        "x1 = Input(shape = (28, 28, 1))\n",
        "\n",
        "#x2 = Conv(x1)\n",
        "x2 = Conv2D(32, (3, 3), activation = 'relu', padding = 'same', name = 'x2_conv')(x1)\n",
        "\n",
        "#x3 = Conv(x1 + x2)\n",
        "x3_1 = concatenate([x1, x2], axis = -1)\n",
        "x3 = Conv2D(32, (3, 3), activation = 'relu', padding = 'same', name = 'x3_conv')(x3_1)\n",
        "\n",
        "#x4 = MaxPooling(x1 + x2 + x3)\n",
        "x4_1 = concatenate([x1, x2, x3], axis = -1)\n",
        "x4 = MaxPooling2D(pool_size = (2, 2))(x4_1)\n",
        "\n",
        "#x5 = Conv(x4)\n",
        "x5 = Conv2D(32, (3, 3), activation = 'relu', padding = 'same', name = 'x5_conv')(x4)\n",
        "\n",
        "#x6 = Conv(x4 + x5)\n",
        "x6_1 = concatenate([x4, x5], axis = -1)\n",
        "x6 = Conv2D(32, (3, 3), activation = 'relu', padding = 'same', name = 'x6_conv')(x6_1)\n",
        "\n",
        "#x7 = Conv(x4 + x5 + x6)\n",
        "x7_1 = concatenate([x4, x5, x6], axis = -1)\n",
        "x7 = Conv2D(32, (3, 3), activation = 'relu', padding = 'same', name = 'x7_conv')(x7_1)\n",
        "\n",
        "#x8 = MaxPooling(x5 + x6 + x7)\n",
        "x8_1 = concatenate([x5, x6, x7], axis = -1)\n",
        "x8 = MaxPooling2D(pool_size=(2, 2))(x8_1)\n",
        "\n",
        "#x9 = Conv(x8)\n",
        "x9 = Conv2D(32, (3, 3), activation = 'relu', padding = 'same', name = 'x9_conv')(x8)\n",
        "\n",
        "#x10 = Conv (x8 + x9)\n",
        "x10_1 = concatenate([x8, x9], axis = -1)\n",
        "x10 = Conv2D(32, (3, 3), activation = 'relu', padding = 'same', name = 'x10_conv')(x10_1)\n",
        "\n",
        "#x11 = Conv (x8 + x9 + x10)\n",
        "x11_1 = concatenate([x8, x9, x10], axis = -1)\n",
        "x11 = Conv2D(32, (3, 3), activation = 'relu', padding = 'same', name = 'x11_conv')(x11_1)\n",
        "\n",
        "#BIG KERNEL Operation (use a large kernel size (10 units), if required at this step to be able to add softmax in the next layer)\n",
        "x12 = Conv2D(10, (7,7), name = 'x12_Conv')(x11)\n",
        "\n",
        "\n",
        "flat_layer = Flatten()(x12)\n",
        "output = Activation('softmax')(flat_layer)\n",
        "\n",
        "model = Model(inputs=[x1], outputs=[output])\n",
        "\n",
        "\n",
        "print(datetime.datetime.now())"
      ],
      "execution_count": 0,
      "outputs": [
        {
          "output_type": "stream",
          "text": [
            "W0614 10:42:47.388835 140454907357056 deprecation_wrapper.py:119] From /usr/local/lib/python3.6/dist-packages/keras/backend/tensorflow_backend.py:3976: The name tf.nn.max_pool is deprecated. Please use tf.nn.max_pool2d instead.\n",
            "\n"
          ],
          "name": "stderr"
        },
        {
          "output_type": "stream",
          "text": [
            "2019-06-14 10:42:47.492990\n"
          ],
          "name": "stdout"
        }
      ]
    },
    {
      "cell_type": "code",
      "metadata": {
        "id": "TzdAYg1k9K7Z",
        "colab_type": "code",
        "outputId": "7035a287-addf-4906-bcaa-3489a89156a5",
        "colab": {
          "base_uri": "https://localhost:8080/",
          "height": 1054
        }
      },
      "source": [
        "model.summary()\n",
        "\n",
        "print(datetime.datetime.now())"
      ],
      "execution_count": 0,
      "outputs": [
        {
          "output_type": "stream",
          "text": [
            "__________________________________________________________________________________________________\n",
            "Layer (type)                    Output Shape         Param #     Connected to                     \n",
            "==================================================================================================\n",
            "input_2 (InputLayer)            (None, 28, 28, 1)    0                                            \n",
            "__________________________________________________________________________________________________\n",
            "x2_conv (Conv2D)                (None, 28, 28, 32)   320         input_2[0][0]                    \n",
            "__________________________________________________________________________________________________\n",
            "concatenate_2 (Concatenate)     (None, 28, 28, 33)   0           input_2[0][0]                    \n",
            "                                                                 x2_conv[0][0]                    \n",
            "__________________________________________________________________________________________________\n",
            "x3_conv (Conv2D)                (None, 28, 28, 32)   9536        concatenate_2[0][0]              \n",
            "__________________________________________________________________________________________________\n",
            "concatenate_3 (Concatenate)     (None, 28, 28, 65)   0           input_2[0][0]                    \n",
            "                                                                 x2_conv[0][0]                    \n",
            "                                                                 x3_conv[0][0]                    \n",
            "__________________________________________________________________________________________________\n",
            "max_pooling2d_1 (MaxPooling2D)  (None, 14, 14, 65)   0           concatenate_3[0][0]              \n",
            "__________________________________________________________________________________________________\n",
            "x5_conv (Conv2D)                (None, 14, 14, 32)   18752       max_pooling2d_1[0][0]            \n",
            "__________________________________________________________________________________________________\n",
            "concatenate_4 (Concatenate)     (None, 14, 14, 97)   0           max_pooling2d_1[0][0]            \n",
            "                                                                 x5_conv[0][0]                    \n",
            "__________________________________________________________________________________________________\n",
            "x6_conv (Conv2D)                (None, 14, 14, 32)   27968       concatenate_4[0][0]              \n",
            "__________________________________________________________________________________________________\n",
            "concatenate_5 (Concatenate)     (None, 14, 14, 129)  0           max_pooling2d_1[0][0]            \n",
            "                                                                 x5_conv[0][0]                    \n",
            "                                                                 x6_conv[0][0]                    \n",
            "__________________________________________________________________________________________________\n",
            "x7_conv (Conv2D)                (None, 14, 14, 32)   37184       concatenate_5[0][0]              \n",
            "__________________________________________________________________________________________________\n",
            "concatenate_6 (Concatenate)     (None, 14, 14, 96)   0           x5_conv[0][0]                    \n",
            "                                                                 x6_conv[0][0]                    \n",
            "                                                                 x7_conv[0][0]                    \n",
            "__________________________________________________________________________________________________\n",
            "max_pooling2d_2 (MaxPooling2D)  (None, 7, 7, 96)     0           concatenate_6[0][0]              \n",
            "__________________________________________________________________________________________________\n",
            "x9_conv (Conv2D)                (None, 7, 7, 32)     27680       max_pooling2d_2[0][0]            \n",
            "__________________________________________________________________________________________________\n",
            "concatenate_7 (Concatenate)     (None, 7, 7, 128)    0           max_pooling2d_2[0][0]            \n",
            "                                                                 x9_conv[0][0]                    \n",
            "__________________________________________________________________________________________________\n",
            "x10_conv (Conv2D)               (None, 7, 7, 32)     36896       concatenate_7[0][0]              \n",
            "__________________________________________________________________________________________________\n",
            "concatenate_8 (Concatenate)     (None, 7, 7, 160)    0           max_pooling2d_2[0][0]            \n",
            "                                                                 x9_conv[0][0]                    \n",
            "                                                                 x10_conv[0][0]                   \n",
            "__________________________________________________________________________________________________\n",
            "x11_conv (Conv2D)               (None, 7, 7, 32)     46112       concatenate_8[0][0]              \n",
            "__________________________________________________________________________________________________\n",
            "x12_Conv (Conv2D)               (None, 1, 1, 10)     15690       x11_conv[0][0]                   \n",
            "__________________________________________________________________________________________________\n",
            "flatten_1 (Flatten)             (None, 10)           0           x12_Conv[0][0]                   \n",
            "__________________________________________________________________________________________________\n",
            "activation_1 (Activation)       (None, 10)           0           flatten_1[0][0]                  \n",
            "==================================================================================================\n",
            "Total params: 220,138\n",
            "Trainable params: 220,138\n",
            "Non-trainable params: 0\n",
            "__________________________________________________________________________________________________\n",
            "2019-06-14 10:42:53.411206\n"
          ],
          "name": "stdout"
        }
      ]
    },
    {
      "cell_type": "code",
      "metadata": {
        "id": "Zp6SuGrL9M3h",
        "colab_type": "code",
        "outputId": "d56ed1f2-a2c6-4c18-ed9a-e6ae88d206ea",
        "colab": {
          "base_uri": "https://localhost:8080/",
          "height": 122
        }
      },
      "source": [
        "model.compile(loss='categorical_crossentropy',\n",
        "             optimizer='adam',\n",
        "             metrics=['accuracy'])\n",
        "print(datetime.datetime.now())"
      ],
      "execution_count": 0,
      "outputs": [
        {
          "output_type": "stream",
          "text": [
            "W0614 10:43:01.184131 140454907357056 deprecation_wrapper.py:119] From /usr/local/lib/python3.6/dist-packages/keras/optimizers.py:790: The name tf.train.Optimizer is deprecated. Please use tf.compat.v1.train.Optimizer instead.\n",
            "\n",
            "W0614 10:43:01.217817 140454907357056 deprecation_wrapper.py:119] From /usr/local/lib/python3.6/dist-packages/keras/backend/tensorflow_backend.py:3295: The name tf.log is deprecated. Please use tf.math.log instead.\n",
            "\n"
          ],
          "name": "stderr"
        },
        {
          "output_type": "stream",
          "text": [
            "2019-06-14 10:43:01.236396\n"
          ],
          "name": "stdout"
        }
      ]
    },
    {
      "cell_type": "code",
      "metadata": {
        "id": "4xWoKhPY9Of5",
        "colab_type": "code",
        "outputId": "1a077336-90b3-42b1-f36b-13dfa6d00216",
        "colab": {
          "base_uri": "https://localhost:8080/",
          "height": 513
        }
      },
      "source": [
        "model.fit(X_train, Y_train, batch_size=32, nb_epoch=10, verbose=1)\n",
        "print(datetime.datetime.now())"
      ],
      "execution_count": 0,
      "outputs": [
        {
          "output_type": "stream",
          "text": [
            "/usr/local/lib/python3.6/dist-packages/ipykernel_launcher.py:1: UserWarning: The `nb_epoch` argument in `fit` has been renamed `epochs`.\n",
            "  \"\"\"Entry point for launching an IPython kernel.\n",
            "W0614 10:43:04.879681 140454907357056 deprecation.py:323] From /usr/local/lib/python3.6/dist-packages/tensorflow/python/ops/math_grad.py:1250: add_dispatch_support.<locals>.wrapper (from tensorflow.python.ops.array_ops) is deprecated and will be removed in a future version.\n",
            "Instructions for updating:\n",
            "Use tf.where in 2.0, which has the same broadcast rule as np.where\n",
            "W0614 10:43:05.017939 140454907357056 deprecation_wrapper.py:119] From /usr/local/lib/python3.6/dist-packages/keras/backend/tensorflow_backend.py:986: The name tf.assign_add is deprecated. Please use tf.compat.v1.assign_add instead.\n",
            "\n"
          ],
          "name": "stderr"
        },
        {
          "output_type": "stream",
          "text": [
            "Epoch 1/10\n",
            "60000/60000 [==============================] - 22s 360us/step - loss: 0.1089 - acc: 0.9657\n",
            "Epoch 2/10\n",
            "60000/60000 [==============================] - 15s 257us/step - loss: 0.0383 - acc: 0.9883\n",
            "Epoch 3/10\n",
            "60000/60000 [==============================] - 16s 261us/step - loss: 0.0262 - acc: 0.9919\n",
            "Epoch 4/10\n",
            "60000/60000 [==============================] - 16s 259us/step - loss: 0.0218 - acc: 0.9930\n",
            "Epoch 5/10\n",
            "60000/60000 [==============================] - 15s 257us/step - loss: 0.0167 - acc: 0.9947\n",
            "Epoch 6/10\n",
            "60000/60000 [==============================] - 15s 255us/step - loss: 0.0129 - acc: 0.9958\n",
            "Epoch 7/10\n",
            "60000/60000 [==============================] - 15s 254us/step - loss: 0.0113 - acc: 0.9964\n",
            "Epoch 8/10\n",
            "60000/60000 [==============================] - 15s 253us/step - loss: 0.0112 - acc: 0.9964\n",
            "Epoch 9/10\n",
            "60000/60000 [==============================] - 15s 255us/step - loss: 0.0097 - acc: 0.9970\n",
            "Epoch 10/10\n",
            "60000/60000 [==============================] - 15s 254us/step - loss: 0.0079 - acc: 0.9975\n",
            "2019-06-14 10:45:45.460636\n"
          ],
          "name": "stdout"
        }
      ]
    },
    {
      "cell_type": "code",
      "metadata": {
        "id": "AtsH-lLk-eLb",
        "colab_type": "code",
        "outputId": "7f0dac3e-d362-4641-9f02-a4251c5c75cd",
        "colab": {
          "base_uri": "https://localhost:8080/",
          "height": 34
        }
      },
      "source": [
        "score = model.evaluate(X_test, Y_test, verbose=0)\n",
        "print(datetime.datetime.now())"
      ],
      "execution_count": 0,
      "outputs": [
        {
          "output_type": "stream",
          "text": [
            "2019-06-14 10:45:46.255322\n"
          ],
          "name": "stdout"
        }
      ]
    },
    {
      "cell_type": "code",
      "metadata": {
        "id": "mkX8JMv79q9r",
        "colab_type": "code",
        "outputId": "365d302f-5f95-4f55-b30c-b1f2ccd920f8",
        "colab": {
          "base_uri": "https://localhost:8080/",
          "height": 51
        }
      },
      "source": [
        "print(score)\n",
        "print(datetime.datetime.now())"
      ],
      "execution_count": 0,
      "outputs": [
        {
          "output_type": "stream",
          "text": [
            "[0.03520895965366176, 0.9917]\n",
            "2019-06-14 10:45:46.267410\n"
          ],
          "name": "stdout"
        }
      ]
    }
  ]
}